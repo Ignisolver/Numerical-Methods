{
 "cells": [
  {
   "cell_type": "markdown",
   "metadata": {},
   "source": [
    "# <center>Laboratorium 3<br>Metody Numeryczne</center>"
   ]
  },
  {
   "cell_type": "markdown",
   "metadata": {},
   "source": [
    "Instrukcja:  \n",
    "Na zajęciach należy wykonać poniższe zadania, dokonać testu na platformie github, a następnie sporządzić sprawozdanie zawierające odpowiedzi z komentarzami."
   ]
  },
  {
   "cell_type": "markdown",
   "metadata": {},
   "source": [
    "Biblioteki niezbędne do wykonania zadania:\n",
    "\n",
    "(instalacja: \"pip install numpy scipy matplotlib memory_profiler\")"
   ]
  },
  {
   "cell_type": "code",
   "execution_count": 48,
   "metadata": {},
   "outputs": [
    {
     "name": "stdout",
     "output_type": "stream",
     "text": [
      "The memory_profiler extension is already loaded. To reload it, use:\n",
      "  %reload_ext memory_profiler\n"
     ]
    }
   ],
   "source": [
    "import main\n",
    "\n",
    "import numpy as np\n",
    "import scipy\n",
    "import matplotlib\n",
    "import matplotlib.pyplot as plt\n",
    "\n",
    "%load_ext memory_profiler"
   ]
  },
  {
   "cell_type": "markdown",
   "metadata": {},
   "source": [
    "***Materiały przygotowujące:***\n",
    "- Standard IEEE 754 [PL](https://pl.wikipedia.org/wiki/IEEE_754) [EN](https://en.wikipedia.org/wiki/IEEE_754)\n",
    "- Liczba zmiennoprzecinkowa [PL](https://pl.wikipedia.org/wiki/Liczba_zmiennoprzecinkowa) [EN](https://en.wikipedia.org/wiki/Floating-point_arithmetic)\n",
    "- Arytmetyka zmiennoprzecinkowa [Python](https://docs.python.org/3.7/tutorial/floatingpoint.html)"
   ]
  },
  {
   "source": [
    "***Profilowanie kodu:***\n",
    "- [timeit](https://docs.python.org/2/library/timeit.html) - profilowanie czasu wykonywania kodu \n",
    "- [memit](https://pypi.org/project/memory-profiler/) - profilowanie pamięci zużywanej przez kod\n",
    "\n",
    "Zarówno timeit jak i memit wspierają magic command w Jupyter notebook, co obrazuje poniższy przykład:"
   ],
   "cell_type": "markdown",
   "metadata": {}
  },
  {
   "cell_type": "code",
   "execution_count": 58,
   "metadata": {},
   "outputs": [],
   "source": [
    "def func(size):\n",
    "    a = np.random.random((size,size))\n",
    "    b = np.random.random((size,size))\n",
    "    c = a + b\n",
    "    return c\n",
    "\n",
    "# for size in [100, 1000, 10000]:\n",
    "#     print('SIZE: ', size)\n",
    "#     print('Timing: ')\n",
    "#     saved_timing = %timeit -r 5 -n 10 -o func(size)\n",
    "#     saved_timing.average   # średni czas próby\n",
    "#     saved_timing.stdev     # odchylenie standardowe\n",
    "#     print('Memory usage: ')\n",
    "#     %memit func(size)\n",
    "#     print('\\n')"
   ]
  },
  {
   "source": [
    "***Zadanie 1.***\n",
    "Zaimplementuj funkcje obliczające błąd względny i bezwzględny (*relative_error* i *absolut_error*).\n",
    "Funkcje przyjmują 2 argumenty: wartość dokładną oraz wartość przybliżoną, zwracając wartość błędu.\n",
    "Implementacja powinna obsługiwać zarówno wartości skalarne, listy oraz wektory i macierze typu np.array z zachowaniem zasad [broadcastingu](https://numpy.org/doc/stable/user/basics.broadcasting.html).\n",
    "\n",
    "**Wskazówka** Wykorzystuj funkcje *relative_error* i *absolut_error* w dalszej części laboratorium do analizy błędów."
   ],
   "cell_type": "markdown",
   "metadata": {}
  },
  {
   "cell_type": "markdown",
   "metadata": {},
   "source": [
    "***Zadanie 2.***  \n",
    "Zaimplementuj funkcje *p_diff*, która przyjmuje jako parametry wartości całkowite $n$ i rzeczywiste $c$ oraz zwraca różnicę (co do wartości bezwzględnej)   dwóch wyrażeń $P_1$ oraz $P_2$:  \n",
    "  \n",
    "a) $P_1 = b - b + c $  \n",
    "b) $P_2 = b + c - b $\n",
    "\n",
    "gdzie $b = 2^n$\n",
    "\n",
    "Analizując różnicę w otrzymanych wynikach zastosuj warotści:  \n",
    "- $n \\in \\{1,2,3... 50\\}$\n",
    "- $c \\in \\{0.1, 0.125, 0.25, 0.33, 0.5, 0.6\\}$"
   ]
  },
  {
   "cell_type": "code",
   "execution_count": 50,
   "outputs": [],
   "source": [
    "result = []\n",
    "for n in range(1,51):\n",
    "    result.append([])\n",
    "    for c in [0.1,0.125,0.25,0.33,0.5,0.6]:\n",
    "        result[-1].append(main.p_diff(n,c))"
   ],
   "metadata": {
    "collapsed": false,
    "pycharm": {
     "name": "#%%\n"
    }
   }
  },
  {
   "cell_type": "markdown",
   "source": [
    "Następnie odpowiedź i zilustruj wykresami pytania:\n",
    "\n",
    "1. Jaki wynik powinniśmy otrzymać?\n",
    "    - Powinno być zawsze 0\n",
    "2. Które z liczb mają skończoną a które nieskończoną reprezentację?\n",
    "    - Skończoną reprezentacje mają te liczby które da się przedstawić jako suma całkowitych potęg liczby 2.\n",
    "3. Dlaczego wyniki się od siebie różnią?\n",
    "    - ponieważ obliczenia w których składniki dają się wyrazić za pomocą potęg liczby 2, błąd zaokrągleń nie występuje, a w pozostałych występuje i jest zależny wielkości wartości której dotyczy.\n",
    "4. Jaki typ błędu tutaj występuje?\n",
    "    - błąd metody\n",
    "5. Czy istnieje możliwość poprawy działania tych wyrażeń, jeżeli tak to w jaki sposób?  \n",
    "     - owszem istenieje. Można na przykład zawsze najpierw wykonywać osobno operacja na liczbach mniejszych i większych, skorzystać z modułu do obliczeń symbolicznych np. Sympy, lub modułu decimal"
   ],
   "metadata": {
    "collapsed": false
   }
  },
  {
   "cell_type": "code",
   "execution_count": 51,
   "outputs": [
    {
     "name": "stdout",
     "output_type": "stream",
     "text": [
      "1\n",
      "powinny być same zera a jest : [8.326672684688674e-17, 0.0, 0.0, 5.551115123125783e-17, 0.0, 1.1102230246251565e-16]\n",
      "---------------------------------------\n",
      "2\n",
      "powinny być same zera a jest : [3.608224830031759e-16, 0.0, 0.0, 5.551115123125783e-17, 0.0, 3.3306690738754696e-16]\n",
      "---------------------------------------\n",
      "3\n",
      "powinny być same zera a jest : [3.608224830031759e-16, 0.0, 0.0, 5.551115123125783e-17, 0.0, 3.3306690738754696e-16]\n",
      "---------------------------------------\n",
      "4\n",
      "powinny być same zera a jest : [1.4155343563970746e-15, 0.0, 0.0, 1.7208456881689926e-15, 0.0, 1.4432899320127035e-15]\n",
      "---------------------------------------\n",
      "5\n",
      "powinny być same zera a jest : [1.4155343563970746e-15, 0.0, 0.0, 1.7208456881689926e-15, 0.0, 1.4432899320127035e-15]\n",
      "---------------------------------------\n",
      "6\n",
      "powinny być same zera a jest : [5.689893001203927e-15, 0.0, 0.0, 1.7208456881689926e-15, 0.0, 5.662137425588298e-15]\n",
      "---------------------------------------\n",
      "7\n",
      "powinny być same zera a jest : [5.689893001203927e-15, 0.0, 0.0, 1.2490009027033011e-14, 0.0, 5.662137425588298e-15]\n",
      "---------------------------------------\n",
      "8\n",
      "powinny być same zera a jest : [2.273181642920008e-14, 0.0, 0.0, 1.5931700403370996e-14, 0.0, 2.275957200481571e-14]\n",
      "---------------------------------------\n",
      "9\n",
      "powinny być same zera a jest : [2.273181642920008e-14, 0.0, 0.0, 4.091171845743702e-14, 0.0, 2.275957200481571e-14]\n",
      "---------------------------------------\n",
      "10\n",
      "powinny być same zera a jest : [9.095502129241595e-14, 0.0, 0.0, 7.277511926417901e-14, 0.0, 9.092726571680032e-14]\n",
      "---------------------------------------\n",
      "11\n",
      "powinny być same zera a jest : [9.095502129241595e-14, 0.0, 0.0, 7.277511926417901e-14, 0.0, 9.092726571680032e-14]\n",
      "---------------------------------------\n",
      "12\n",
      "powinny być same zera a jest : [3.6379232959404817e-13, 0.0, 0.0, 7.277511926417901e-14, 0.0, 3.638200851696638e-13]\n",
      "---------------------------------------\n",
      "13\n",
      "powinny być same zera a jest : [3.6379232959404817e-13, 0.0, 0.0, 7.277511926417901e-14, 0.0, 3.638200851696638e-13]\n",
      "---------------------------------------\n",
      "14\n",
      "powinny być same zera a jest : [1.4551970739518083e-12, 0.0, 0.0, 1.7462142842816775e-12, 0.0, 1.4551693183761927e-12]\n",
      "---------------------------------------\n",
      "15\n",
      "powinny być same zera a jest : [1.4551970739518083e-12, 0.0, 0.0, 1.7462142842816775e-12, 0.0, 1.4551693183761927e-12]\n",
      "---------------------------------------\n",
      "16\n",
      "powinny być same zera a jest : [5.820760540231618e-12, 0.0, 0.0, 1.7462142842816775e-12, 0.0, 5.820788295807233e-12]\n",
      "---------------------------------------\n",
      "17\n",
      "powinny być same zera a jest : [5.820760540231618e-12, 0.0, 0.0, 1.2805700944085174e-11, 0.0, 5.820788295807233e-12]\n",
      "---------------------------------------\n",
      "18\n",
      "powinny być same zera a jest : [2.3283069916502086e-11, 0.0, 0.0, 1.629812951264853e-11, 0.0, 2.328304216092647e-11]\n",
      "---------------------------------------\n",
      "19\n",
      "powinny być same zera a jest : [2.3283069916502086e-11, 0.0, 0.0, 4.190953140081888e-11, 0.0, 2.328304216092647e-11]\n",
      "---------------------------------------\n",
      "20\n",
      "powinny być same zera a jest : [9.313225191043273e-11, 0.0, 0.0, 7.450579042611594e-11, 0.0, 9.313227966600834e-11]\n",
      "---------------------------------------\n",
      "21\n",
      "powinny być same zera a jest : [9.313225191043273e-11, 0.0, 0.0, 7.450579042611594e-11, 0.0, 9.313227966600834e-11]\n",
      "---------------------------------------\n",
      "22\n",
      "powinny być same zera a jest : [3.7252903539730653e-10, 0.0, 0.0, 7.450579042611594e-11, 0.0, 3.725290076417309e-10]\n",
      "---------------------------------------\n",
      "23\n",
      "powinny być same zera a jest : [3.7252903539730653e-10, 0.0, 0.0, 7.450579042611594e-11, 0.0, 3.725290076417309e-10]\n",
      "---------------------------------------\n",
      "24\n",
      "powinny być same zera a jest : [1.4901161138336505e-09, 0.0, 0.0, 1.788139358804841e-09, 0.0, 1.4901161415892261e-09]\n",
      "---------------------------------------\n",
      "25\n",
      "powinny być same zera a jest : [1.4901161138336505e-09, 0.0, 0.0, 1.788139358804841e-09, 0.0, 1.4901161415892261e-09]\n",
      "---------------------------------------\n",
      "26\n",
      "powinny być same zera a jest : [5.960464483090178e-09, 0.0, 0.0, 1.788139358804841e-09, 0.0, 5.960464455334602e-09]\n",
      "---------------------------------------\n",
      "27\n",
      "powinny być same zera a jest : [5.960464483090178e-09, 0.0, 0.0, 1.3113021835042815e-08, 0.0, 5.960464455334602e-09]\n",
      "---------------------------------------\n",
      "28\n",
      "powinny być same zera a jest : [2.3841857904605135e-08, 0.0, 0.0, 1.6689300552652497e-08, 0.0, 2.384185793236071e-08]\n",
      "---------------------------------------\n",
      "29\n",
      "powinny być same zera a jest : [2.3841857904605135e-08, 0.0, 0.0, 4.291534422273813e-08, 0.0, 2.384185793236071e-08]\n",
      "---------------------------------------\n",
      "30\n",
      "powinny być same zera a jest : [9.536743164617612e-08, 0.0, 0.0, 7.629394532804312e-08, 0.0, 9.536743161842054e-08]\n",
      "---------------------------------------\n",
      "31\n",
      "powinny być same zera a jest : [9.536743164617612e-08, 0.0, 0.0, 7.629394532804312e-08, 0.0, 9.536743161842054e-08]\n",
      "---------------------------------------\n",
      "32\n",
      "powinny być same zera a jest : [3.814697265569489e-07, 0.0, 0.0, 7.629394532804312e-08, 0.0, 3.8146972658470446e-07]\n",
      "---------------------------------------\n",
      "33\n",
      "powinny być same zera a jest : [3.814697265569489e-07, 0.0, 0.0, 7.629394532804312e-08, 0.0, 3.8146972658470446e-07]\n",
      "---------------------------------------\n",
      "34\n",
      "powinny być same zera a jest : [1.5258789062555511e-06, 0.0, 0.0, 1.8310546874844569e-06, 0.0, 1.5258789062277955e-06]\n",
      "---------------------------------------\n",
      "35\n",
      "powinny być same zera a jest : [1.5258789062555511e-06, 0.0, 0.0, 1.8310546874844569e-06, 0.0, 1.5258789062277955e-06]\n",
      "---------------------------------------\n",
      "36\n",
      "powinny być same zera a jest : [6.103515624994449e-06, 0.0, 0.0, 1.8310546874844569e-06, 0.0, 6.1035156250222045e-06]\n",
      "---------------------------------------\n",
      "37\n",
      "powinny być same zera a jest : [6.103515624994449e-06, 0.0, 0.0, 1.3427734375015543e-05, 0.0, 6.1035156250222045e-06]\n",
      "---------------------------------------\n",
      "38\n",
      "powinny być same zera a jest : [2.441406250000555e-05, 0.0, 0.0, 1.7089843749984457e-05, 0.0, 2.4414062499977796e-05]\n",
      "---------------------------------------\n",
      "39\n",
      "powinny być same zera a jest : [2.441406250000555e-05, 0.0, 0.0, 4.394531250001554e-05, 0.0, 2.4414062499977796e-05]\n",
      "---------------------------------------\n",
      "40\n",
      "powinny być same zera a jest : [9.765624999999445e-05, 0.0, 0.0, 7.812499999998446e-05, 0.0, 9.76562500000222e-05]\n",
      "---------------------------------------\n",
      "41\n",
      "powinny być same zera a jest : [9.765624999999445e-05, 0.0, 0.0, 7.812499999998446e-05, 0.0, 9.76562500000222e-05]\n",
      "---------------------------------------\n",
      "42\n",
      "powinny być same zera a jest : [0.00039062500000000555, 0.0, 0.0, 7.812499999998446e-05, 0.0, 0.0003906249999999778]\n",
      "---------------------------------------\n",
      "43\n",
      "powinny być same zera a jest : [0.00039062500000000555, 0.0, 0.0, 7.812499999998446e-05, 0.0, 0.0003906249999999778]\n",
      "---------------------------------------\n",
      "44\n",
      "powinny być same zera a jest : [0.0015624999999999944, 0.0, 0.0, 0.0018750000000000155, 0.0, 0.0015625000000000222]\n",
      "---------------------------------------\n",
      "45\n",
      "powinny być same zera a jest : [0.0015624999999999944, 0.0, 0.0, 0.0018750000000000155, 0.0, 0.0015625000000000222]\n",
      "---------------------------------------\n",
      "46\n",
      "powinny być same zera a jest : [0.0062500000000000056, 0.0, 0.0, 0.0018750000000000155, 0.0, 0.006249999999999978]\n",
      "---------------------------------------\n",
      "47\n",
      "powinny być same zera a jest : [0.0062500000000000056, 0.0, 0.0, 0.013749999999999984, 0.0, 0.006249999999999978]\n",
      "---------------------------------------\n",
      "48\n",
      "powinny być same zera a jest : [0.024999999999999994, 0.0, 0.0, 0.017500000000000016, 0.0, 0.025000000000000022]\n",
      "---------------------------------------\n",
      "49\n",
      "powinny być same zera a jest : [0.024999999999999994, 0.0, 0.0, 0.044999999999999984, 0.0, 0.025000000000000022]\n",
      "---------------------------------------\n",
      "50\n",
      "powinny być same zera a jest : [0.1, 0.125, 0.0, 0.08000000000000002, 0.0, 0.09999999999999998]\n",
      "---------------------------------------\n"
     ]
    },
    {
     "data": {
      "text/plain": "<Figure size 432x288 with 1 Axes>",
      "image/png": "[encoded data removed]"
     },
     "metadata": {
      "needs_background": "light"
     },
     "output_type": "display_data"
    }
   ],
   "source": [
    "n = 0\n",
    "for n_res in result:\n",
    "    n += 1\n",
    "    print(n)\n",
    "    print(f'powinny być same zera a jest : {n_res}')\n",
    "    print('---------------------------------------')\n",
    "    plt.plot([0.1,0.125,0.25,0.33,0.5,0.6],n_res,'.')\n",
    "\n",
    "# plt.ylim(bottom = -0.0000000000000000000001)\n",
    "plt.yscale('log')\n",
    "plt.xticks([0.1,0.125,0.25,0.33,0.5,0.6],rotation = -40)\n",
    "plt.xlabel('wartości c')\n",
    "plt.ylabel('wartości błędu')\n",
    "plt.show()"
   ],
   "metadata": {
    "collapsed": false,
    "pycharm": {
     "name": "#%%\n"
    }
   }
  },
  {
   "cell_type": "markdown",
   "source": [
    "Wykres przedstawia wartości błędu (jeżeli jest on różny od 0) dla różnych 'n' w zależności od wartości 'c'.\n",
    "Widać że dla wartości 1/8, 1/4 oraz 1/2 błędów niema. Wyjątek stanowi błąd o wartości 0.125 dla c = 0.125. Jest on spowodowany tym że wartość 1/8 'nie zmieściła się' w zmiennoprzecinkowej reprezentacji tak dużej liczby jak 2**50 + 1/8."
   ],
   "metadata": {
    "collapsed": false
   }
  },
  {
   "cell_type": "markdown",
   "metadata": {},
   "source": [
    "***Zadanie 3.***  \n",
    "Wartości funkcji $\\mathrm{e}^{x}$ można obliczyć w przybliżeniu z szeregu Taylora w następujący sposób:  \n",
    "  \n",
    "$\\mathrm{e}^{x} \\approx \\sum\\limits_{i=0}^{N}{\\cfrac{1}{i!}x^{i}}$ \n",
    "  \n",
    "na podstawie przedstawionych informacji zaimplementuj funkcje *exponential* która oblicza $\\mathrm{e}^{x}$ z zadaną dokładnością $N$. Porównaj działanie utworzonej funkcji z [numpy.exp](https://docs.scipy.org/doc/numpy-1.15.1/reference/generated/numpy.exp.html). Odpowiedz na pytania:  "
   ]
  },
  {
   "cell_type": "code",
   "execution_count": 52,
   "outputs": [
    {
     "name": "stdout",
     "output_type": "stream",
     "text": [
      "wartosc e^30 z dokładnością 0: 1\n",
      "wartosc e^30 z dokładnością 1: 21.0\n",
      "wartosc e^30 z dokładnością 2: 221.0\n",
      "wartosc e^30 z dokładnością 3: 1554.3333333333333\n",
      "wartosc e^30 z dokładnością 4: 8221.0\n",
      "wartosc e^30 z dokładnością 5: 34887.66666666667\n",
      "wartosc e^30 z dokładnością 6: 123776.55555555556\n",
      "wartosc e^30 z dokładnością 7: 377744.8095238095\n",
      "wartosc e^30 z dokładnością 8: 1012665.4444444445\n",
      "wartosc e^30 z dokładnością 9: 2423600.1887125224\n",
      "wartosc e^30 z dokładnością 10: 5245469.677248677\n",
      "wartosc e^30 z dokładnością 11: 10376141.474587142\n",
      "wartosc e^30 z dokładnością 12: 18927261.136817917\n",
      "wartosc e^30 z dokładnością 13: 32082829.847942185\n",
      "wartosc e^30 z dokładnością 14: 50876499.43526256\n",
      "wartosc e^30 z dokładnością 15: 75934725.55168974\n",
      "wartosc e^30 z dokładnością 16: 107257508.19722371\n",
      "wartosc e^30 z dokładnością 17: 144107840.7213813\n",
      "wartosc e^30 z dokładnością 18: 185052654.637112\n",
      "wartosc e^30 z dokładnością 19: 228152458.75893375\n",
      "wartosc e^30 z dokładnością 20: 271252262.88075554\n",
      "wartosc e^30 z dokładnością 21: 312299695.37772864\n",
      "wartosc e^30 z dokładnością 22: 349615543.1022496\n",
      "wartosc e^30 z dokładnością 23: 382064106.34096354\n",
      "wartosc e^30 z dokładnością 24: 409104575.70655847\n",
      "wartosc e^30 z dokładnością 25: 430736951.1990344\n",
      "wartosc e^30 z dokładnością 26: 447377240.0394005\n",
      "wartosc e^30 z dokładnością 27: 459703379.9211532\n",
      "wartosc e^30 z dokładnością 28: 468507765.5509765\n",
      "wartosc e^30 z dokładnością 29: 474579755.64050984\n",
      "wartosc e^30 z dokładnością 30: 478627749.0335321\n",
      "wartosc e^30 z dokładnością 31: 481239357.6741916\n",
      "wartosc e^30 z dokładnością 32: 482871613.0746038\n",
      "wartosc e^30 z dokładnością 33: 483860858.7718233\n",
      "wartosc e^30 z dokładnością 34: 484442768.00548184\n",
      "wartosc e^30 z dokładnością 35: 484775287.5675724\n",
      "wartosc e^30 z dokładnością 36: 484960020.65762275\n",
      "wartosc e^30 z dokładnością 37: 485059876.3819743\n",
      "wartosc e^30 z dokładnością 38: 485112432.0263698\n",
      "wartosc e^30 z dokładnością 39: 485139383.6388804\n",
      "wartosc e^30 z dokładnością 40: 485152859.44513565\n",
      "wartosc e^30 z dokładnością 41: 485159433.0091626\n",
      "wartosc e^30 z dokładnością 42: 485162563.27774686\n",
      "wartosc e^30 z dokładnością 43: 485164019.21662325\n",
      "wartosc e^30 z dokładnością 44: 485164681.0070216\n",
      "wartosc e^30 z dokładnością 45: 485164975.13608754\n",
      "wartosc e^30 z dokładnością 46: 485165103.0182901\n",
      "wartosc e^30 z dokładnością 47: 485165157.43624866\n",
      "wartosc e^30 z dokładnością 48: 485165180.11039805\n",
      "wartosc e^30 z dokładnością 49: 485165189.3651529\n",
      "wartosc e^30 z dokładnością 50: 485165193.0670548\n",
      "wartosc e^30 z dokładnością 51: 485165194.51878107\n",
      "wartosc e^30 z dokładnością 52: 485165195.0771373\n",
      "wartosc e^30 z dokładnością 53: 485165195.28783774\n",
      "wartosc e^30 z dokładnością 54: 485165195.36587495\n",
      "wartosc e^30 z dokładnością 55: 485165195.3942521\n",
      "wartosc e^30 z dokładnością 56: 485165195.4043868\n",
      "wartosc e^30 z dokładnością 57: 485165195.40794283\n",
      "wartosc e^30 z dokładnością 58: 485165195.4091691\n",
      "wartosc e^30 z dokładnością 59: 485165195.40958476\n",
      "wartosc e^30 z dokładnością 60: 485165195.40972334\n",
      "wartosc e^30 z dokładnością 61: 485165195.40976876\n",
      "wartosc e^30 z dokładnością 62: 485165195.4097834\n",
      "wartosc e^30 z dokładnością 63: 485165195.4097881\n",
      "wartosc e^30 z dokładnością 64: 485165195.4097895\n",
      "wartosc e^30 z dokładnością 65: 485165195.40979\n",
      "wartosc e^30 z dokładnością 66: 485165195.4097901\n",
      "wartosc e^30 z dokładnością 67: 485165195.40979016\n",
      "wartosc e^30 z dokładnością 68: 485165195.40979016\n",
      "wartosc e^30 z dokładnością 69: 485165195.40979016\n",
      "wartosc e^30 z dokładnością 70: 485165195.40979016\n",
      "wartosc e^30 z dokładnością 71: 485165195.40979016\n",
      "wartosc e^30 z dokładnością 72: 485165195.40979016\n",
      "wartosc e^30 z dokładnością 73: 485165195.40979016\n",
      "wartosc e^30 z dokładnością 74: 485165195.40979016\n",
      "wartosc e^30 z dokładnością 75: 485165195.40979016\n",
      "wartosc e^30 z dokładnością 76: 485165195.40979016\n",
      "wartosc e^30 z dokładnością 77: 485165195.40979016\n",
      "wartosc e^30 z dokładnością 78: 485165195.40979016\n",
      "wartosc e^30 z dokładnością 79: 485165195.40979016\n",
      "wartosc e^30 z dokładnością 80: 485165195.40979016\n",
      "wartosc e^30 z dokładnością 81: 485165195.40979016\n",
      "wartosc e^30 z dokładnością 82: 485165195.40979016\n",
      "wartosc e^30 z dokładnością 83: 485165195.40979016\n",
      "wartosc e^30 z dokładnością 84: 485165195.40979016\n",
      "wartosc e^30 z dokładnością 85: 485165195.40979016\n",
      "wartosc e^30 z dokładnością 86: 485165195.40979016\n",
      "wartosc e^30 z dokładnością 87: 485165195.40979016\n",
      "wartosc e^30 z dokładnością 88: 485165195.40979016\n",
      "wartosc e^30 z dokładnością 89: 485165195.40979016\n",
      "wartosc e^30 z dokładnością 90: 485165195.40979016\n",
      "wartosc e^30 z dokładnością 91: 485165195.40979016\n",
      "wartosc e^30 z dokładnością 92: 485165195.40979016\n",
      "wartosc e^30 z dokładnością 93: 485165195.40979016\n",
      "wartosc e^30 z dokładnością 94: 485165195.40979016\n",
      "wartosc e^30 z dokładnością 95: 485165195.40979016\n",
      "wartosc e^30 z dokładnością 96: 485165195.40979016\n",
      "wartosc e^30 z dokładnością 97: 485165195.40979016\n",
      "wartosc e^30 z dokładnością 98: 485165195.40979016\n",
      "wartosc e^30 z dokładnością 99: 485165195.40979016\n",
      "dokladna wartosc e^30        : 485165195.4097903\n"
     ]
    }
   ],
   "source": [
    "for i in range(100):\n",
    "    print(f'wartosc e^30 z dokładnością {i}:', main.exponential(20,i))\n",
    "print(\"dokladna wartosc e^30        :\", np.exp(20))"
   ],
   "metadata": {
    "collapsed": false,
    "pycharm": {
     "name": "#%%\n"
    }
   }
  },
  {
   "cell_type": "markdown",
   "source": [
    "1. Jaki typ błędu obrazuje omawiany przykład?\n",
    "    - błąd metody - ponieważ aby otrzymać dokładną wartość $\\mathrm{e}^{x}$ trzeba wyknać nieskończenie wiele obliczeń\n",
    "2. Dokonaj analizy błędów bezwzględnych i względnych w zależności od wartości $n$."
   ],
   "metadata": {
    "collapsed": false,
    "pycharm": {
     "name": "#%% md\n"
    }
   }
  },
  {
   "cell_type": "code",
   "execution_count": 53,
   "outputs": [
    {
     "data": {
      "text/plain": "<Figure size 432x288 with 1 Axes>",
      "image/png": "[encoded data removed]"
     },
     "metadata": {
      "needs_background": "light"
     },
     "output_type": "display_data"
    }
   ],
   "source": [
    "bez = []\n",
    "wzg = []\n",
    "e_10 = np.exp(10)\n",
    "for i in range(51):\n",
    "    bez.append(main.absolut_error(e_10,main.exponential(10,i)))\n",
    "    wzg.append(main.relative_error(e_10,main.exponential(10,i)))\n",
    "plt.plot(wzg)\n",
    "plt.ylabel(\"wartość błędu\")\n",
    "plt.plot(bez)\n",
    "plt.title(\"błędy na skali logarytmicznej\")\n",
    "plt.xlabel('N')\n",
    "plt.yscale('log')\n",
    "plt.legend(['bezwzględny', 'względny'])\n",
    "plt.grid()\n",
    "plt.show()"
   ],
   "metadata": {
    "collapsed": false,
    "pycharm": {
     "name": "#%%\n"
    }
   }
  },
  {
   "cell_type": "markdown",
   "source": [
    "Błędy względny i bezwzględy powoli maleją i dążą do 0 wraz ze wzrostem N co ilustruje powyższy wykres."
   ],
   "metadata": {
    "collapsed": false,
    "pycharm": {
     "name": "#%% md\n"
    }
   }
  },
  {
   "cell_type": "markdown",
   "metadata": {},
   "source": [
    "***Zadania 4.***  \n",
    "Zaimplementuj 2 funkcje $coskx1$ i $coskx2$, realizujące rekurencyjnie przybliżanie wartości $cos(kx)$ w następujący sposób:\n",
    "\n",
    "- Metoda 1:         \n",
    "$cos(m+1)x = 2cosx \\cdot cos(mx) - cos(m-1)x$\n",
    "- Metoda 2:     \n",
    "$cos(mx) = cosx \\cdot cos(m-1)x - sinx \\cdot sin(m-1)x$       \n",
    "$sin(mx) = sinx \\cdot cos(m-1)x + cosx \\cdot sin(m-1)x$\n",
    "\n",
    "Następnie przeanalizuj otrzymane rezultaty dla różnych $k$.\n",
    "\n",
    "**Wskazówka** Do wyliczenia wartości $sin(x)$, $cos(x)$ (dla $k=1$) można użyć funkcji biblioteki numpy.\n",
    "Pozostałe wartości dla $k>1$ należy wyznaczyć rekurencyjnie."
   ]
  },
  {
   "cell_type": "code",
   "execution_count": 54,
   "outputs": [
    {
     "name": "stdout",
     "output_type": "stream",
     "text": [
      "------ cos(1 * pi/8) = 0.9238795325112867\n",
      "przybliżony coskx1 0.9238795325112867\n",
      "przybliżony coskx2 (0.9238795325112867, 0.3826834323650898)\n",
      "\n",
      "------ cos(2 * pi/8) = 0.7071067811865476\n",
      "przybliżony coskx1 0.7071067811865475\n",
      "przybliżony coskx2 (0.7071067811865475, 0.7071067811865476)\n",
      "\n",
      "------ cos(3 * pi/8) = 0.38268343236508984\n",
      "przybliżony coskx1 0.3826834323650896\n",
      "przybliżony coskx2 (0.38268343236508967, 0.9238795325112867)\n",
      "\n",
      "------ cos(4 * pi/8) = 6.123233995736766e-17\n",
      "przybliżony coskx1 -2.220446049250313e-16\n",
      "przybliżony coskx2 (-1.1102230246251565e-16, 1.0)\n",
      "\n",
      "------ cos(5 * pi/8) = -0.3826834323650897\n",
      "przybliżony coskx1 -0.38268343236509\n",
      "przybliżony coskx2 (-0.3826834323650899, 0.9238795325112867)\n",
      "\n",
      "------ cos(6 * pi/8) = -0.7071067811865475\n",
      "przybliżony coskx1 -0.7071067811865477\n",
      "przybliżony coskx2 (-0.7071067811865477, 0.7071067811865475)\n",
      "\n",
      "------ cos(7 * pi/8) = -0.9238795325112867\n",
      "przybliżony coskx1 -0.9238795325112867\n",
      "przybliżony coskx2 (-0.9238795325112868, 0.3826834323650896)\n",
      "\n",
      "------ cos(8 * pi/8) = -1.0\n",
      "przybliżony coskx1 -0.9999999999999998\n",
      "przybliżony coskx2 (-1.0, -1.6653345369377348e-16)\n",
      "\n",
      "------ cos(9 * pi/8) = -0.9238795325112868\n",
      "przybliżony coskx1 -0.9238795325112863\n",
      "przybliżony coskx2 (-0.9238795325112866, -0.38268343236508995)\n",
      "\n",
      "------ cos(10 * pi/8) = -0.7071067811865477\n",
      "przybliżony coskx1 -0.7071067811865468\n",
      "przybliżony coskx2 (-0.7071067811865474, -0.7071067811865477)\n",
      "\n",
      "------ cos(11 * pi/8) = -0.38268343236509034\n",
      "przybliżony coskx1 -0.38268343236508895\n",
      "przybliżony coskx2 (-0.3826834323650895, -0.9238795325112868)\n",
      "\n",
      "------ cos(12 * pi/8) = -1.8369701987210297e-16\n",
      "przybliżony coskx1 7.771561172376096e-16\n",
      "przybliżony coskx2 (2.7755575615628914e-16, -1.0)\n",
      "\n",
      "------ cos(13 * pi/8) = 0.38268343236509\n",
      "przybliżony coskx1 0.3826834323650904\n",
      "przybliżony coskx2 (0.38268343236509006, -0.9238795325112866)\n",
      "\n",
      "------ cos(14 * pi/8) = 0.7071067811865474\n",
      "przybliżony coskx1 0.7071067811865479\n",
      "przybliżony coskx2 (0.7071067811865477, -0.7071067811865472)\n",
      "\n",
      "------ cos(15 * pi/8) = 0.9238795325112865\n",
      "przybliżony coskx1 0.9238795325112868\n",
      "przybliżony coskx2 (0.9238795325112867, -0.3826834323650894)\n",
      "\n"
     ]
    }
   ],
   "source": [
    "n = 8\n",
    "for k in range(1,16):\n",
    "    print(f'------ cos({k} * pi/{n}) = {np.cos(k * np.pi/n)}')\n",
    "    print(\"przybliżony coskx1\",main.coskx1(k,np.pi/n))\n",
    "    print(\"przybliżony coskx2\",main.coskx2(k,np.pi/n))\n",
    "    print()"
   ],
   "metadata": {
    "collapsed": false,
    "pycharm": {
     "name": "#%%\n"
    }
   }
  },
  {
   "cell_type": "markdown",
   "source": [
    "Wyniki są bardzo dokładne ale dla dużych k obliczenia trwają bardzo długo."
   ],
   "metadata": {
    "collapsed": false,
    "pycharm": {
     "name": "#%% md\n"
    }
   }
  },
  {
   "cell_type": "markdown",
   "metadata": {},
   "source": [
    "***Zadanie 5.***  \n",
    "Wiedząc, że\n",
    "$\\begin{aligned}\n",
    "\\sum_{n=1}^{\\infty} \\cfrac{1}{n^2} = \\cfrac{1}{6} \\pi^2\n",
    "\\end{aligned}$,\n",
    "napisz kod w Pythonie (funkcja *pi*) obliczający przybliżenie liczby pi (nie korzystaj ze stałych <i>numpy.pi</i>, <i>math.pi</i> itp.). \n",
    "\n",
    "1. Z jakimi rodzajami błędów numerycznych mamy tu do czynienia?\n",
    "     - Z błędami metody - trzeba wykonać nieskończnie wiele obliczeń aby otrzymać poprawną wartość\n",
    "2. Sporządź wykresy błędów bezwzględnych i względnych w stosunku do stałej numpy.pi w zależności od wartości $n$.  \n",
    "\n",
    "**Wskazówka** Do wizualizacji wyników użyj skali logarytmicznej."
   ]
  },
  {
   "cell_type": "code",
   "execution_count": 59,
   "outputs": [
    {
     "data": {
      "text/plain": "<Figure size 432x288 with 1 Axes>",
      "image/png": "[encoded data removed]"
     },
     "metadata": {
      "needs_background": "light"
     },
     "output_type": "display_data"
    }
   ],
   "source": [
    "pis = []\n",
    "bez = []\n",
    "wzg = []\n",
    "x = []\n",
    "for k in range(1,20002,100):\n",
    "    x.append(k)\n",
    "    bez.append(main.absolut_error(np.pi,main.pi(k)))\n",
    "    wzg.append(main.relative_error(np.pi,main.pi(k)))\n",
    "plt.plot(x, wzg)\n",
    "plt.plot(x,bez)\n",
    "plt.yscale('log')\n",
    "plt.ylabel('wartości błędów')\n",
    "plt.xlabel('dokładność')\n",
    "plt.legend(['błąd względny','błąd bezwzględny'])\n",
    "plt.grid()\n",
    "plt.show()"
   ],
   "metadata": {
    "collapsed": false,
    "pycharm": {
     "name": "#%%\n"
    }
   }
  },
  {
   "cell_type": "markdown",
   "metadata": {
    "pycharm": {
     "name": "#%% md\n"
    }
   },
   "source": [
    "***Zadanie 6.***  \n",
    "Używając funkcji timeit oraz memit zbadaj czas działania oraz zużycie pamięci funkcji z Zadania 5 w zalożności od różnych wartości $n$.\n",
    "Sporządź wykresy:\n",
    "- czasu obliczenia danego przybliżenia liczby pi w zależności od $n$. \n",
    "W tym celu wykorzystaj funkcje [errorbar](https://matplotlib.org/3.1.1/api/_as_gen/matplotlib.pyplot.errorbar.html) oraz zwracane przez *timeit* wartości średnie oraz ich odchylenie standardowe. \n",
    "- błędu bezwzględnego przybliżenia liczby pi od czasu jego wykonania.\n",
    "\n",
    "\n",
    "\n",
    "**Wskazówka** Użyj opcji -o (output) dla *timeit* aby zapisać wynik do zmiennej. Opcje -r (runs) i -n (ilość pentli) decydują o ilości wykonanych prób.     \n",
    "Do wizualizacji wyników użyj skali logarytmicznej."
   ]
  },
  {
   "cell_type": "code",
   "execution_count": 86,
   "outputs": [
    {
     "name": "stdout",
     "output_type": "stream",
     "text": [
      "2.01 µs ± 180 ns per loop (mean ± std. dev. of 5 runs, 20 loops each)\n",
      "5.72 µs ± 140 ns per loop (mean ± std. dev. of 5 runs, 20 loops each)\n",
      "10.8 µs ± 2.72 µs per loop (mean ± std. dev. of 5 runs, 20 loops each)\n",
      "13.8 µs ± 608 ns per loop (mean ± std. dev. of 5 runs, 20 loops each)\n",
      "16.3 µs ± 160 ns per loop (mean ± std. dev. of 5 runs, 20 loops each)\n",
      "22.5 µs ± 3.59 µs per loop (mean ± std. dev. of 5 runs, 20 loops each)\n",
      "25.3 µs ± 2.61 µs per loop (mean ± std. dev. of 5 runs, 20 loops each)\n",
      "27.4 µs ± 477 ns per loop (mean ± std. dev. of 5 runs, 20 loops each)\n",
      "32.8 µs ± 976 ns per loop (mean ± std. dev. of 5 runs, 20 loops each)\n",
      "52.3 µs ± 12.8 µs per loop (mean ± std. dev. of 5 runs, 20 loops each)\n",
      "37.7 µs ± 340 ns per loop (mean ± std. dev. of 5 runs, 20 loops each)\n",
      "41.1 µs ± 145 ns per loop (mean ± std. dev. of 5 runs, 20 loops each)\n",
      "46.9 µs ± 4.33 µs per loop (mean ± std. dev. of 5 runs, 20 loops each)\n",
      "47.6 µs ± 738 ns per loop (mean ± std. dev. of 5 runs, 20 loops each)\n",
      "52 µs ± 1.44 µs per loop (mean ± std. dev. of 5 runs, 20 loops each)\n",
      "57.5 µs ± 4.59 µs per loop (mean ± std. dev. of 5 runs, 20 loops each)\n",
      "58.8 µs ± 101 ns per loop (mean ± std. dev. of 5 runs, 20 loops each)\n",
      "63.3 µs ± 838 ns per loop (mean ± std. dev. of 5 runs, 20 loops each)\n",
      "70.4 µs ± 4.96 µs per loop (mean ± std. dev. of 5 runs, 20 loops each)\n",
      "70.2 µs ± 87.8 ns per loop (mean ± std. dev. of 5 runs, 20 loops each)\n",
      "75.1 µs ± 1.81 µs per loop (mean ± std. dev. of 5 runs, 20 loops each)\n",
      "78.1 µs ± 212 ns per loop (mean ± std. dev. of 5 runs, 20 loops each)\n",
      "81.8 µs ± 106 ns per loop (mean ± std. dev. of 5 runs, 20 loops each)\n",
      "88.6 µs ± 5.14 µs per loop (mean ± std. dev. of 5 runs, 20 loops each)\n",
      "89.4 µs ± 20.6 ns per loop (mean ± std. dev. of 5 runs, 20 loops each)\n",
      "95.8 µs ± 1.08 µs per loop (mean ± std. dev. of 5 runs, 20 loops each)\n",
      "98.1 µs ± 2.13 µs per loop (mean ± std. dev. of 5 runs, 20 loops each)\n",
      "101 µs ± 120 ns per loop (mean ± std. dev. of 5 runs, 20 loops each)\n",
      "106 µs ± 1.26 µs per loop (mean ± std. dev. of 5 runs, 20 loops each)\n",
      "112 µs ± 4.07 µs per loop (mean ± std. dev. of 5 runs, 20 loops each)\n",
      "113 µs ± 1.57 µs per loop (mean ± std. dev. of 5 runs, 20 loops each)\n",
      "116 µs ± 212 ns per loop (mean ± std. dev. of 5 runs, 20 loops each)\n",
      "122 µs ± 1.7 µs per loop (mean ± std. dev. of 5 runs, 20 loops each)\n",
      "128 µs ± 3.71 µs per loop (mean ± std. dev. of 5 runs, 20 loops each)\n",
      "128 µs ± 595 ns per loop (mean ± std. dev. of 5 runs, 20 loops each)\n",
      "131 µs ± 85.5 ns per loop (mean ± std. dev. of 5 runs, 20 loops each)\n",
      "155 µs ± 13.9 µs per loop (mean ± std. dev. of 5 runs, 20 loops each)\n",
      "157 µs ± 9.79 µs per loop (mean ± std. dev. of 5 runs, 20 loops each)\n",
      "153 µs ± 3.54 µs per loop (mean ± std. dev. of 5 runs, 20 loops each)\n",
      "155 µs ± 2.96 µs per loop (mean ± std. dev. of 5 runs, 20 loops each)\n",
      "157 µs ± 7.04 µs per loop (mean ± std. dev. of 5 runs, 20 loops each)\n",
      "162 µs ± 6.75 µs per loop (mean ± std. dev. of 5 runs, 20 loops each)\n",
      "164 µs ± 2.68 µs per loop (mean ± std. dev. of 5 runs, 20 loops each)\n",
      "167 µs ± 2.3 µs per loop (mean ± std. dev. of 5 runs, 20 loops each)\n",
      "169 µs ± 5.38 µs per loop (mean ± std. dev. of 5 runs, 20 loops each)\n",
      "179 µs ± 8.76 µs per loop (mean ± std. dev. of 5 runs, 20 loops each)\n",
      "179 µs ± 3.79 µs per loop (mean ± std. dev. of 5 runs, 20 loops each)\n",
      "192 µs ± 6.14 µs per loop (mean ± std. dev. of 5 runs, 20 loops each)\n",
      "201 µs ± 8.63 µs per loop (mean ± std. dev. of 5 runs, 20 loops each)\n",
      "194 µs ± 4.12 µs per loop (mean ± std. dev. of 5 runs, 20 loops each)\n",
      "201 µs ± 4.07 µs per loop (mean ± std. dev. of 5 runs, 20 loops each)\n",
      "202 µs ± 2.32 µs per loop (mean ± std. dev. of 5 runs, 20 loops each)\n",
      "219 µs ± 11.8 µs per loop (mean ± std. dev. of 5 runs, 20 loops each)\n",
      "222 µs ± 5.03 µs per loop (mean ± std. dev. of 5 runs, 20 loops each)\n",
      "228 µs ± 12.5 µs per loop (mean ± std. dev. of 5 runs, 20 loops each)\n",
      "220 µs ± 2 µs per loop (mean ± std. dev. of 5 runs, 20 loops each)\n",
      "223 µs ± 7.85 µs per loop (mean ± std. dev. of 5 runs, 20 loops each)\n",
      "224 µs ± 3.06 µs per loop (mean ± std. dev. of 5 runs, 20 loops each)\n",
      "230 µs ± 8.91 µs per loop (mean ± std. dev. of 5 runs, 20 loops each)\n",
      "250 µs ± 3.48 µs per loop (mean ± std. dev. of 5 runs, 20 loops each)\n",
      "250 µs ± 7.86 µs per loop (mean ± std. dev. of 5 runs, 20 loops each)\n",
      "244 µs ± 5.14 µs per loop (mean ± std. dev. of 5 runs, 20 loops each)\n",
      "249 µs ± 13.1 µs per loop (mean ± std. dev. of 5 runs, 20 loops each)\n",
      "240 µs ± 2.18 µs per loop (mean ± std. dev. of 5 runs, 20 loops each)\n",
      "243 µs ± 707 ns per loop (mean ± std. dev. of 5 runs, 20 loops each)\n",
      "252 µs ± 6.31 µs per loop (mean ± std. dev. of 5 runs, 20 loops each)\n",
      "256 µs ± 5.91 µs per loop (mean ± std. dev. of 5 runs, 20 loops each)\n",
      "257 µs ± 942 ns per loop (mean ± std. dev. of 5 runs, 20 loops each)\n",
      "272 µs ± 12.8 µs per loop (mean ± std. dev. of 5 runs, 20 loops each)\n",
      "282 µs ± 12.9 µs per loop (mean ± std. dev. of 5 runs, 20 loops each)\n",
      "282 µs ± 10.7 µs per loop (mean ± std. dev. of 5 runs, 20 loops each)\n",
      "277 µs ± 1.72 µs per loop (mean ± std. dev. of 5 runs, 20 loops each)\n",
      "287 µs ± 11.1 µs per loop (mean ± std. dev. of 5 runs, 20 loops each)\n",
      "290 µs ± 4.32 µs per loop (mean ± std. dev. of 5 runs, 20 loops each)\n",
      "295 µs ± 8.37 µs per loop (mean ± std. dev. of 5 runs, 20 loops each)\n",
      "298 µs ± 2.17 µs per loop (mean ± std. dev. of 5 runs, 20 loops each)\n",
      "303 µs ± 8.23 µs per loop (mean ± std. dev. of 5 runs, 20 loops each)\n",
      "307 µs ± 15.5 µs per loop (mean ± std. dev. of 5 runs, 20 loops each)\n",
      "305 µs ± 8.31 µs per loop (mean ± std. dev. of 5 runs, 20 loops each)\n",
      "306 µs ± 6.54 µs per loop (mean ± std. dev. of 5 runs, 20 loops each)\n",
      "304 µs ± 1.55 µs per loop (mean ± std. dev. of 5 runs, 20 loops each)\n",
      "308 µs ± 873 ns per loop (mean ± std. dev. of 5 runs, 20 loops each)\n",
      "311 µs ± 959 ns per loop (mean ± std. dev. of 5 runs, 20 loops each)\n",
      "327 µs ± 13.5 µs per loop (mean ± std. dev. of 5 runs, 20 loops each)\n",
      "387 µs ± 114 µs per loop (mean ± std. dev. of 5 runs, 20 loops each)\n",
      "373 µs ± 49 µs per loop (mean ± std. dev. of 5 runs, 20 loops each)\n",
      "341 µs ± 8.06 µs per loop (mean ± std. dev. of 5 runs, 20 loops each)\n",
      "332 µs ± 3.37 µs per loop (mean ± std. dev. of 5 runs, 20 loops each)\n",
      "334 µs ± 401 ns per loop (mean ± std. dev. of 5 runs, 20 loops each)\n",
      "342 µs ± 3.72 µs per loop (mean ± std. dev. of 5 runs, 20 loops each)\n",
      "344 µs ± 2.73 µs per loop (mean ± std. dev. of 5 runs, 20 loops each)\n",
      "368 µs ± 34.5 µs per loop (mean ± std. dev. of 5 runs, 20 loops each)\n",
      "352 µs ± 2.29 µs per loop (mean ± std. dev. of 5 runs, 20 loops each)\n",
      "363 µs ± 2.53 µs per loop (mean ± std. dev. of 5 runs, 20 loops each)\n",
      "365 µs ± 5.62 µs per loop (mean ± std. dev. of 5 runs, 20 loops each)\n",
      "379 µs ± 12.5 µs per loop (mean ± std. dev. of 5 runs, 20 loops each)\n",
      "374 µs ± 8.58 µs per loop (mean ± std. dev. of 5 runs, 20 loops each)\n",
      "377 µs ± 5.19 µs per loop (mean ± std. dev. of 5 runs, 20 loops each)\n",
      "389 µs ± 10.3 µs per loop (mean ± std. dev. of 5 runs, 20 loops each)\n",
      "384 µs ± 6.48 µs per loop (mean ± std. dev. of 5 runs, 20 loops each)\n",
      "Zużycie pamięci dla n = 2000\n",
      "peak memory: 155.97 MiB, increment: 0.00 MiB\n"
     ]
    }
   ],
   "source": [
    "import memory_profiler\n",
    "times = []\n",
    "stds = []\n",
    "ns = []\n",
    "pi_errs = []\n",
    "for n in range(5,2001,20):\n",
    "    ns.append(n)\n",
    "    pi_errs.append(main.absolut_error(np.pi,main.pi(n)))\n",
    "    time =  %timeit -r 5 -n 20 -o main.pi(n)\n",
    "    times.append(time.average)\n",
    "    stds.append(time.stdev)\n",
    "print('Zużycie pamięci dla n = 2000')\n",
    "%memit main.pi(n)"
   ],
   "metadata": {
    "collapsed": false,
    "pycharm": {
     "name": "#%%\n"
    }
   }
  },
  {
   "cell_type": "code",
   "execution_count": 83,
   "outputs": [
    {
     "data": {
      "text/plain": "<Figure size 432x288 with 1 Axes>",
      "image/png": "[encoded data removed]"
     },
     "metadata": {
      "needs_background": "light"
     },
     "output_type": "display_data"
    },
    {
     "data": {
      "text/plain": "<Figure size 432x288 with 1 Axes>",
      "image/png": "[encoded data removed]"
     },
     "metadata": {
      "needs_background": "light"
     },
     "output_type": "display_data"
    }
   ],
   "source": [
    "plt.errorbar(ns,times,fmt='.b',yerr=stds,ecolor='r')\n",
    "# plt.yscale('log')\n",
    "plt.xlabel('dkładność \"n\"')\n",
    "plt.ylabel('czas wykonania przybliżenia [ms]')\n",
    "plt.grid()\n",
    "plt.show()\n",
    "plt.figure()\n",
    "times = list(map(lambda x: x * 1000,times))\n",
    "plt.plot(times,pi_errs,'.')\n",
    "plt.yscale('log')\n",
    "plt.grid()\n",
    "plt.xlabel('czas wykonania przybliżenia [ms]')\n",
    "plt.xticks(rotation = -40)\n",
    "plt.ylabel('błąd bezwzględny w oszacowaniu wartości pi')\n",
    "plt.show()\n"
   ],
   "metadata": {
    "collapsed": false,
    "pycharm": {
     "name": "#%%\n"
    }
   }
  }
 ],
 "metadata": {
  "kernelspec": {
   "display_name": "Python 3",
   "language": "python",
   "name": "python3"
  },
  "language_info": {
   "codemirror_mode": {
    "name": "ipython",
    "version": 3
   },
   "file_extension": ".py",
   "mimetype": "text/x-python",
   "name": "python",
   "nbconvert_exporter": "python",
   "pygments_lexer": "ipython3",
   "version": "3.8.5-final"
  }
 },
 "nbformat": 4,
 "nbformat_minor": 2
}