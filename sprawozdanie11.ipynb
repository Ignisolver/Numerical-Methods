{
 "cells": [
  {
   "source": [
    "# <center>Laboratorium 11<br>Metody Numeryczne</center>"
   ],
   "cell_type": "markdown",
   "metadata": {}
  },
  {
   "source": [
    "Instrukcja:  \n",
    "Na zajęciach należy wykonać poniższe zadania, a następnie sporządzić sprawozdanie zawierające odpowiedzi z komentarzami."
   ],
   "cell_type": "markdown",
   "metadata": {}
  },
  {
   "source": [
    "**Cel zajęć:**  \n",
    "Celem zajęć jest zapoznanie się z metodami całkowania numerycznego funkcji:  \n",
    "$$\n",
    "\\int\\limits_{a}^{b}f(x)dx \n",
    "$$  \n",
    "\n",
    "Dana jest funkcja $f(x)$, należy wyznaczyć wartość całki tej funkcji na przedziale $a$,$b$.\n"
   ],
   "cell_type": "markdown",
   "metadata": {}
  },
  {
   "source": [
    "***Zadanie 1.***    \n",
    "Wyznacz numerycznie wartość całki:   \n",
    "$$\n",
    "\\int\\limits_{a}^{b}\\log(1+\\tan(x))dx \n",
    "$$\n",
    "\n",
    "Wykonaj następujące czynności:\n",
    "\n",
    "1. Czy możliwe jest całkowanie podanej funkcji na dowolnym przedziale? Swoją odpowiedź uzasadnij.\n",
    " - Teoretycznie tak ale trzeba uważać na pewne punkty dla których funkcja nie jest określona\n",
    "\n",
    "2. Oblicz całkę numerycznie na przedziale $a =0$, $b=\\cfrac{\\pi}{4}$ przy pomocy następujących metod:\n",
    "    1. Metoda Trapezów - [trapz](https://docs.scipy.org/doc/scipy/reference/generated/scipy.integrate.trapz.html#scipy.integrate.trapz)\n",
    "    2. Metoda Simpsona - [simps](https://docs.scipy.org/doc/scipy/reference/generated/scipy.integrate.simps.html#scipy.integrate.simps) \n",
    "    3. Metoda Romberga - [romb](https://docs.scipy.org/doc/scipy/reference/generated/scipy.integrate.romb.html#scipy.integrate.romb)  "
   ],
   "cell_type": "markdown",
   "metadata": {}
  },
  {
   "cell_type": "code",
   "execution_count": 33,
   "outputs": [
    {
     "name": "stdout",
     "output_type": "stream",
     "text": [
      "f\n",
      "#############\n",
      "0.2680105957296741\n",
      "0.27008819724695843\n",
      "0.27113912408449514\n",
      "0.27166766038875345\n",
      "0.27206541684613084\n",
      "0.2721318228546361\n",
      "0.272165038016708\n",
      "0.2721816486384972\n",
      "0.27218995470974255\n",
      "0.27219410793547316\n",
      "-----------------------------------------\n",
      "0.2721982612879502\n",
      "0.27219826128795027\n",
      "0.27219826128795027\n",
      "0.2721982612879502\n",
      "0.2721982612879502\n",
      "0.2721982612879502\n",
      "0.2721982612879502\n",
      "0.2721982612879502\n",
      "0.2721982612879502\n",
      "0.2721982612879502\n",
      "-----------------------------------------\n",
      "0.2721982612879502\n",
      "0.2721982612879502\n",
      "0.27219826128795027\n",
      "0.2721982612879502\n",
      "0.27219826128795027\n",
      "0.2721982612879502\n",
      "0.2721982612879502\n",
      "0.2721982612879502\n",
      "0.27219826128795027\n",
      "0.2721982612879502\n",
      "-----------------------------------------\n",
      "0.27219826128795016\n",
      "0.27219826128795016\n",
      "0.27219826128795016\n",
      "0.27219826128795016\n",
      "0.27219826128795016\n",
      "0.27219826128795016\n",
      "0.27219826128795016\n",
      "0.27219826128795016\n",
      "0.27219826128795016\n",
      "0.27219826128795016\n",
      "-----------------------------------------\n",
      "0.27219826128795027\n",
      "0.27219826128795027\n",
      "0.27219826128795027\n",
      "0.27219826128795027\n",
      "0.27219826128795027\n",
      "0.27219826128795027\n",
      "0.27219826128795027\n",
      "0.27219826128795027\n",
      "0.27219826128795027\n",
      "0.27219826128795027\n",
      "-----------------------------------------\n",
      "0.27219826128795027\n",
      "0.27219826128795027\n",
      "0.27219826128795027\n",
      "0.27219826128795027\n",
      "0.27219826128795027\n",
      "0.27219826128795027\n",
      "0.27219826128795027\n",
      "0.27219826128795027\n",
      "0.27219826128795027\n",
      "0.27219826128795027\n",
      "-----------------------------------------\n",
      "g\n",
      "#############\n",
      "1.4401494113547642\n",
      "1.451313360279994\n",
      "1.4569604939775815\n",
      "1.4598005729132104\n",
      "1.4619379090375344\n",
      "1.462294740355337\n",
      "1.4624732213440292\n",
      "1.4625624781778006\n",
      "1.462607110680415\n",
      "1.462629427953264\n",
      "-----------------------------------------\n",
      "1.4626517639014924\n",
      "1.4626517470322082\n",
      "1.4626517459775017\n",
      "1.4626517459115767\n",
      "1.4626517459071986\n",
      "1.4626517459071828\n",
      "1.4626517459071815\n",
      "1.4626517459071815\n",
      "1.4626517459071815\n",
      "1.4626517459071815\n",
      "-----------------------------------------\n",
      "1.4627623485777268\n",
      "1.4626793974185879\n",
      "1.4626586588377735\n",
      "1.4626534741431259\n",
      "1.4626518539219924\n",
      "1.462651772910885\n",
      "1.4626517526581075\n",
      "1.462651747594913\n",
      "1.4626517463291144\n",
      "1.462651746012665\n",
      "-----------------------------------------\n",
      "1.4626517459101032\n",
      "1.4626517459101032\n",
      "1.4626517459101032\n",
      "1.4626517459101032\n",
      "1.4626517459101032\n",
      "1.4626517459101032\n",
      "1.4626517459101032\n",
      "1.4626517459101032\n",
      "1.4626517459101032\n",
      "1.4626517459101032\n",
      "-----------------------------------------\n",
      "1.4626517459071815\n",
      "1.4626517459071815\n",
      "1.4626517459071815\n",
      "1.4626517459071815\n",
      "1.4626517459071815\n",
      "1.4626517459071815\n",
      "1.4626517459071815\n",
      "1.4626517459071815\n",
      "1.4626517459071815\n",
      "1.4626517459071815\n",
      "-----------------------------------------\n",
      "1.4626517458962958\n",
      "1.4626517458962958\n",
      "1.4626517458962958\n",
      "1.4626517458962958\n",
      "1.4626517458962958\n",
      "1.4626517458962958\n",
      "1.4626517458962958\n",
      "1.4626517458962958\n",
      "1.4626517458962958\n",
      "1.4626517458962958\n",
      "-----------------------------------------\n"
     ]
    }
   ],
   "source": [
    "from numpy import log, tan, pi, e\n",
    "from numpy import logspace, linspace, array\n",
    "from scipy.integrate import romb, simps, trapz, romberg, quad, quadrature\n",
    "def to2pow(x):\n",
    "    n = -1\n",
    "    while x > 1:\n",
    "        x /= 2\n",
    "        n += 1\n",
    "    return 2**n\n",
    "f = lambda x: log(1+tan(x))\n",
    "rf = [0,pi/4]\n",
    "g = lambda x: e**(x**2)\n",
    "rg = [0,1]\n",
    "fun = [f,g]\n",
    "rang = [rf,rg]\n",
    "names = ['f','g']\n",
    "for f,ran,name in zip(fun,rang,names):\n",
    "    print(name,'#############',sep='\\n')\n",
    "    ints_romb  = []\n",
    "    ints_simps = []\n",
    "    ints_trapz = []\n",
    "    ints_rombergs = []\n",
    "    ints_quad = []\n",
    "    ints_quadrature = []\n",
    "    for n in logspace(2,5,10):\n",
    "        x = array(linspace(*ran,to2pow(n)+1))\n",
    "        y = array(f(x))\n",
    "        dx = ran[1]/(to2pow(n)+1)\n",
    "        ints_romb.append(romb(y,dx))\n",
    "        ints_simps.append(simps(y,x,dx))\n",
    "        ints_trapz.append(trapz(y,x,dx))\n",
    "        ints_rombergs.append(romberg(f,0,ran[1]))\n",
    "        ints_quad.append(quad(f,0,ran[1])[0])\n",
    "        ints_quadrature.append(quadrature(f,0,ran[1])[0])\n",
    "    for results in (ints_romb ,\n",
    "    ints_simps,\n",
    "    ints_trapz,\n",
    "    ints_rombergs,\n",
    "    ints_quad,\n",
    "    ints_quadrature):\n",
    "        print(*results,sep='\\n')\n",
    "        print('-----------------------------------------')"
   ],
   "metadata": {
    "collapsed": false,
    "pycharm": {
     "name": "#%%\n"
    }
   }
  },
  {
   "cell_type": "markdown",
   "source": [
    "Sprawdź jak wyniki róźnią się od siebie, czy ma na nie wpływ długość wektora $\\mathbf{y}$ oraz wartość parametru $dx$\n",
    " - długość wektora i wartość parametru ma wpływ tylko na wyniki obliczeń metodą romb\n",
    " - metody simps i trapz oraz quad , quadrature i (z bardzo dobrym przybliżeniem) też romberg dają takie same wyniki\n",
    "3. Porównaj wyniki i czas obliczeń z punktu 1 z funkcjami:\n",
    "   1. [quad](https://docs.scipy.org/doc/scipy/reference/generated/scipy.integrate.quad.html#scipy-integrate-quad)\n",
    "   2. [romberg](https://docs.scipy.org/doc/scipy/reference/generated/scipy.integrate.romberg.html#scipy.integrate.romberg)\n",
    "   3. [quadrature](https://docs.scipy.org/doc/scipy/reference/generated/scipy.integrate.quadrature.html#scipy.integrate.quadrature)"
   ],
   "metadata": {
    "collapsed": false
   }
  },
  {
   "cell_type": "markdown",
   "source": [
    "***Zadanie 2.***\n",
    "Dla funkcji\n",
    "\n",
    "$$f(x) = e^{x^2}$$\n",
    "\n",
    "wyznacz numerycznie wartośc całki na przedziale $a = 0$, $b=1$  w  taki sam sposób jak w zadaniu 1."
   ],
   "metadata": {
    "collapsed": false
   }
  },
  {
   "cell_type": "code",
   "execution_count": 33,
   "outputs": [],
   "source": [
    "\n"
   ],
   "metadata": {
    "collapsed": false,
    "pycharm": {
     "name": "#%%\n"
    }
   }
  }
 ],
 "metadata": {
  "kernelspec": {
   "display_name": "Python 3",
   "language": "python",
   "name": "python3"
  },
  "language_info": {
   "codemirror_mode": {
    "name": "ipython",
    "version": 3
   },
   "file_extension": ".py",
   "mimetype": "text/x-python",
   "name": "python",
   "nbconvert_exporter": "python",
   "pygments_lexer": "ipython3",
   "version": "3.7.6-final"
  }
 },
 "nbformat": 4,
 "nbformat_minor": 4
}