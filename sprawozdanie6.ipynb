{
 "cells": [
  {
   "cell_type": "markdown",
   "metadata": {
    "pycharm": {
     "name": "#%% md\n"
    }
   },
   "source": [
    "# <center>Rozwiązywanie układów równań</center>"
   ]
  },
  {
   "cell_type": "markdown",
   "metadata": {
    "pycharm": {
     "name": "#%% md\n"
    }
   },
   "source": [
    "Instrukcja:\n",
    "Na zajęciach należy wykonać poniższe zadania, a następnie sporządzić sprawozdanie zawierające odpowiedzi (w postaci kodu) z komentarzami w środowisku Jupyter Notebook i umieścić je na platformie e-learningowej.   "
   ]
  },
  {
   "cell_type": "code",
   "execution_count": 1,
   "metadata": {
    "pycharm": {
     "name": "#%%\n"
    }
   },
   "outputs": [],
   "source": [
    "import main\n",
    "from collections import namedtuple\n",
    "import numpy as np\n",
    "import scipy \n",
    "import matplotlib\n",
    "import matplotlib.pyplot as plt"
   ]
  },
  {
   "cell_type": "markdown",
   "metadata": {
    "pycharm": {
     "name": "#%% md\n"
    }
   },
   "source": [
    "**Cel zajęć:** Celem zajęć jest zapoznanie się z numerycznymi metodami rozwiązywania układów równań liniowych. To podstawowe zadanie algebry liniowej które macierzowo możemy zapisać jako:  \n",
    "  \n",
    "$\n",
    "\\mathbf{Ax}=\\mathbf{b}\n",
    "$ \n",
    "  \n",
    "gdzie $\\mathbf{A}$ - macierz współczynników, $\\mathbf{x}$ - wektor zmiennych a $\\mathbf{b}$ - wektor wyników prawej strony równania.  \n",
    "\n",
    "Do oceny jakości rozwiązania będziemy wykorzystywać residuum (ang. *residual*)\n",
    "$\n",
    "\\mathbf{r}=\\mathbf{b}-\\mathbf{Ax}\n",
    "$ \n",
    "  "
   ]
  },
  {
   "cell_type": "markdown",
   "metadata": {
    "pycharm": {
     "name": "#%% md\n"
    }
   },
   "source": [
    "***Zadanie 1***   \n",
    " \n",
    "1. Zaimplementuj funkcje *random\\_matrix\\_Ab* według opisu w pliku main.py generującą macierz kwadratową $\\mathbf{A}$ i wektor $\\mathbf{b}$ o zadanych wymiarach odpowiednio $m\\times m$, $m\\times 1$ i o wartościach losowych. W tym celu skorzystaj z funkcji *[randint](https://docs.scipy.org/doc/numpy-1.15.1/reference/generated/numpy.random.randint.html)*. W razie podania nieprawidłowej wartości m funkcja ma zwrócić wartość None.\n",
    "\n",
    "2. Wygeneruj takie macierze dla $m=10,\\ 20,\\ 50,\\ 100,\\ 1000$. "
   ]
  },
  {
   "cell_type": "code",
   "execution_count": 2,
   "outputs": [],
   "source": [
    "Abs = []\n",
    "for m in (10,20,50,100,1000):\n",
    "    Abs.append(main.random_matrix_Ab(m))"
   ],
   "metadata": {
    "collapsed": false,
    "pycharm": {
     "name": "#%%\n"
    }
   }
  },
  {
   "cell_type": "markdown",
   "metadata": {
    "pycharm": {
     "name": "#%% md\n"
    }
   },
   "source": [
    "***Zadanie 2***   \n",
    " \n",
    "1. Dla macierzy i wektorów wygenerowanych w poprzednim zadaniu znajdź rozwiązanie układu równań $\\mathbf{Ax}=\\mathbf{b}$ używając funkcji *[solve](https://docs.scipy.org/doc/numpy-1.15.1/reference/generated/numpy.linalg.solve.html?highlight=solve#numpy.linalg.solve)*."
   ]
  },
  {
   "cell_type": "code",
   "execution_count": 3,
   "outputs": [],
   "source": [
    "solutions = []\n",
    "for el in Abs:\n",
    "    solutions.append(np.linalg.solve(*el))"
   ],
   "metadata": {
    "collapsed": false,
    "pycharm": {
     "name": "#%%\n"
    }
   }
  },
  {
   "cell_type": "markdown",
   "source": [
    "2. Zaimplementuj normę residual_norm zgodnie z opisem z main.py (używając *[norm](https://docs.scipy.org/doc/numpy-1.15.1/reference/generated/numpy.linalg.norm.html?highlight=norm#numpy.linalg.norm)*) sprawdź dokładność otrzymanego rozwiązania (oblicz normę residuum)."
   ],
   "metadata": {
    "collapsed": false,
    "pycharm": {
     "name": "#%% md\n"
    }
   }
  },
  {
   "cell_type": "code",
   "execution_count": 4,
   "outputs": [],
   "source": [
    "norms = []\n",
    "for i in range(len(Abs)):\n",
    "    norms.append(main.residual_norm(Abs[i][0],solutions[i], Abs[i][1]))"
   ],
   "metadata": {
    "collapsed": false,
    "pycharm": {
     "name": "#%%\n"
    }
   }
  },
  {
   "cell_type": "markdown",
   "source": [
    "3. Określ uwarunkowanie macierzy $\\mathbf{A}$ przy pomocy funkcji *[cond](https://docs.scipy.org/doc/numpy-1.15.1/reference/generated/numpy.linalg.cond.html?highlight=cond#numpy.linalg.cond)*. "
   ],
   "metadata": {
    "collapsed": false,
    "pycharm": {
     "name": "#%% md\n"
    }
   }
  },
  {
   "cell_type": "code",
   "execution_count": 5,
   "outputs": [
    {
     "name": "stdout",
     "output_type": "stream",
     "text": [
      "conditions: [8.652875057276864, 32.30799991360635, 106.07687781694871, 239.3452856623666, 4573.4168893583565]\n",
      "norms: [5.2964038544713694e-14, 2.8492675107491184e-13, 1.6316898804638571e-12, 6.500110812188922e-12, 1.2465869175687905e-09]\n"
     ]
    }
   ],
   "source": [
    "conditions = []\n",
    "Abs2 = []\n",
    "elem = namedtuple(\"matrix_and_solutions\",['A','b'])\n",
    "for el in Abs:\n",
    "    Abs2.append(elem(el[0],el[1]))\n",
    "for el in Abs2:\n",
    "    conditions.append(np.linalg.cond(el.A))\n",
    "\n",
    "print(\"conditions:\", conditions)\n",
    "print('norms:',norms)"
   ],
   "metadata": {
    "collapsed": false,
    "pycharm": {
     "name": "#%%\n"
    }
   }
  },
  {
   "cell_type": "markdown",
   "source": [
    "4. Odpowiedź na pytanie czy zakres wartości oraz wymiary macierzy mają wpływ na jakość otrzymanych wyników? \n",
    "  \n",
    "ODP: Tak - jak widać z poprzednich printów zarówno uwarunkowania jak i normy są coraz większe wraz ze wzrostem wymiarów macierzy"
   ],
   "metadata": {
    "collapsed": false,
    "pycharm": {
     "name": "#%% md\n"
    }
   }
  },
  {
   "cell_type": "markdown",
   "metadata": {
    "pycharm": {
     "name": "#%% md\n"
    }
   },
   "source": [
    "***Zadanie 3***  \n",
    "Rozkład dowolnej macierzy metodą  *[dekompozycji na wartości singularne](https://pl.wikipedia.org/wiki/Rozk%C5%82ad_wed%C5%82ug_warto%C5%9Bci_osobliwych)* można w Pythonie przeprowadzić przy pomocy funkcji *[svd](https://docs.scipy.org/doc/numpy-1.15.1/reference/generated/numpy.linalg.svd.html)*. Rozkład dla przykładowej macierzy obrazuje kod: "
   ]
  },
  {
   "cell_type": "code",
   "execution_count": 6,
   "metadata": {
    "pycharm": {
     "name": "#%%\n"
    }
   },
   "outputs": [
    {
     "name": "stdout",
     "output_type": "stream",
     "text": [
      "[6.4807407 0.        0.       ]\n",
      "Macierz A:\n",
      " [[1 2 3]\n",
      " [1 2 3]\n",
      " [1 2 3]]\n",
      "Macierz odtworzona z SVD:\n",
      " [[1. 2. 3.]\n",
      " [1. 2. 3.]\n",
      " [1. 2. 3.]]\n"
     ]
    }
   ],
   "source": [
    "import numpy as np\n",
    "import numpy.linalg as nplin\n",
    "\n",
    "A = np.array([[1,2,3],[1,2,3],[1,2,3]])\n",
    "\n",
    "# Użycie rozkładu SVD na macierzy A\n",
    "U,S,V = nplin.svd(A)\n",
    "\n",
    "print(S)\n",
    "# Odtworzenie macierzy A przy pomocy metody SVD\n",
    "A2 = np.dot(U * S, V)\n",
    " \n",
    "print(\"Macierz A:\\n {0}\".format(A))\n",
    "print(\"Macierz odtworzona z SVD:\\n {0}\".format(A2))"
   ]
  },
  {
   "cell_type": "markdown",
   "metadata": {
    "pycharm": {
     "name": "#%% md\n"
    }
   },
   "source": [
    "Wykonaj następujące kroki:\n",
    "\n",
    "1. Zdefiniuj funkcję inicjalizujące wektory *wartości singularnych* w następujący sposób:\n",
    "    - wektor nierosnących wartości singularnych w postaci wektora przestrzeni logarytmicznej,\n",
    "    - wektor nierosnących wartości singularnych, gdzie jedna wartość jest znacznie większa od pozostałych,\n",
    "    - wektor nierosnących wartości, gdzie jedna wartość jest znacznie mniejsza od pozostałych. \n",
    "    \n",
    "    W celu inicjalizacji takich wektorów zaimplementuje funkcje:  \n",
    "    - *log\\_sing\\_value* zgodnie z opisem w main.py i użyciu funkcji *[logspace](https://docs.scipy.org/doc/numpy-1.15.1/reference/generated/numpy.logspace.html?highlight=logspace#numpy.logspace)*\n",
    "    - *order\\_sing\\_value* zgodnie z opisem w main.py\n",
    "\n",
    "2. Zdefiniuj funkcję *create_matrix_from_A* z pliku main, która dla zadanej macierzy A z *zadania 1* i wektorów warości singularnych z punktu 1. tego zadania będzie zwracać odtworzoną macierz z podmienionym wektorem warości singularnych przy pomocy metody SVD, jak pokazanow w przykładzie wyżej. \n",
    "\n",
    "3. Dla otrzymanych macierzy oblicz wartości współczynnika uwarunkowania. "
   ]
  },
  {
   "cell_type": "code",
   "execution_count": 7,
   "outputs": [
    {
     "name": "stdout",
     "output_type": "stream",
     "text": [
      "n = 10: sign_type = log\n",
      "wsp_uwar: 10000000392.55247\n",
      "----\n",
      "n = 10: sign_type = gra\n",
      "wsp_uwar: 10868.089260435552\n",
      "----\n",
      "n = 10: sign_type = low\n",
      "wsp_uwar: 68373.02880538075\n",
      "-------------------------------------\n",
      "n = 20: sign_type = log\n",
      "wsp_uwar: 9999999317.282457\n",
      "----\n",
      "n = 20: sign_type = gra\n",
      "wsp_uwar: 22662.38684413176\n",
      "----\n",
      "n = 20: sign_type = low\n",
      "wsp_uwar: 97776.65645684578\n",
      "-------------------------------------\n",
      "n = 50: sign_type = log\n",
      "wsp_uwar: 9999999612.172478\n",
      "----\n",
      "n = 50: sign_type = gra\n",
      "wsp_uwar: 20989.618238160703\n",
      "----\n",
      "n = 50: sign_type = low\n",
      "wsp_uwar: 98601.15933610698\n",
      "-------------------------------------\n",
      "n = 100: sign_type = log\n",
      "wsp_uwar: 10000001710.124672\n",
      "----\n",
      "n = 100: sign_type = gra\n",
      "wsp_uwar: 198300.280777331\n",
      "----\n",
      "n = 100: sign_type = low\n",
      "wsp_uwar: 98575.8881775812\n",
      "-------------------------------------\n",
      "n = 1000: sign_type = log\n",
      "wsp_uwar: 9999999050.692865\n",
      "----\n",
      "n = 1000: sign_type = gra\n",
      "wsp_uwar: 4150698.5033796583\n",
      "----\n",
      "n = 1000: sign_type = low\n",
      "wsp_uwar: 99882.15071563852\n",
      "-------------------------------------\n"
     ]
    }
   ],
   "source": [
    "from copy import deepcopy\n",
    "sings = namedtuple('singsa',['log','gra','low'])\n",
    "sing_vals = []\n",
    "for el in Abs2:\n",
    "    log = main.log_sing_value(len(el.A),-5,5)\n",
    "    gra = main.order_sing_value(len(el.A),4,'gre')\n",
    "    low = main.order_sing_value(len(el.A),-4,'low')\n",
    "    sing_vals.append(sings(log,gra,low))\n",
    "matrixes3 = namedtuple('matrixes',['log','gra','low'])\n",
    "new_matrixes = []\n",
    "\n",
    "for ind,el in enumerate(Abs2):\n",
    "    log = main.create_matrix_from_A(el.A,sing_vals[ind].log)\n",
    "    gra = main.create_matrix_from_A(el.A,sing_vals[ind].gra)\n",
    "    low = main.create_matrix_from_A(el.A,sing_vals[ind].low)\n",
    "    new_matrixes.append(matrixes3(log,gra,low))\n",
    "sings2 = namedtuple('singsa2',['log','gra','low'])\n",
    "wps_tupl = sings2({10:[],20:[],50:[],100:[],1000:[]},{10:[],20:[],50:[],100:[],1000:[]},{10:[],20:[],50:[],100:[],1000:[]})\n",
    "for mat3 in new_matrixes:\n",
    "    # print('loq',mat3.log)\n",
    "    print(f'n = {len(mat3.log)}: sign_type = log')\n",
    "    wps_tupl.log[len(mat3.log)].append(np.linalg.cond(mat3.log))\n",
    "    print('wsp_uwar:', wps_tupl.log[len(mat3.log)][-1], end='\\n----\\n')\n",
    "\n",
    "    # print('gra',mat3.gra)\n",
    "    print(f'n = {len(mat3.gra)}: sign_type = gra')\n",
    "    wps_tupl.gra[len(mat3.gra)].append(np.linalg.cond(mat3.gra))\n",
    "    print('wsp_uwar:', wps_tupl.gra[len(mat3.gra)][-1], end='\\n----\\n')\n",
    "\n",
    "    print(f'n = {len(mat3.low)}: sign_type = low')\n",
    "    wps_tupl.low[len(mat3.low)].append(np.linalg.cond(mat3.low))\n",
    "    print('wsp_uwar:', wps_tupl.low[len(mat3.low)][-1])\n",
    "    print('-------------------------------------')"
   ],
   "metadata": {
    "collapsed": false,
    "pycharm": {
     "name": "#%% p\n"
    }
   }
  },
  {
   "cell_type": "markdown",
   "source": [
    "4. Odpowiedz na pytanie: czy konieczne jest wyliczanie macierzy aby to zrobić?\n",
    "\n",
    "ODP: współczynnik uwarunkowania macierzy zależy od jej rozmiaru więc aby to zrobić (oszacowując) nie jest konieczne wyliczenie maciezrzy.\n",
    "5. Dla każdego $m$ sporządź wykres normy residuów rozwiązań i funkcji uwarunkowania macierzy."
   ],
   "metadata": {
    "collapsed": false,
    "pycharm": {
     "name": "#%% md\n"
    }
   }
  },
  {
   "cell_type": "code",
   "execution_count": 8,
   "outputs": [
    {
     "data": {
      "text/plain": "<Figure size 432x288 with 1 Axes>",
      "image/png": "[encoded data removed]"
     },
     "metadata": {
      "needs_background": "light"
     },
     "output_type": "display_data"
    },
    {
     "data": {
      "text/plain": "<Figure size 432x288 with 1 Axes>",
      "image/png": "[encoded data removed]"
     },
     "metadata": {
      "needs_background": "light"
     },
     "output_type": "display_data"
    },
    {
     "data": {
      "text/plain": "<Figure size 432x288 with 1 Axes>",
      "image/png": "[encoded data removed]"
     },
     "metadata": {
      "needs_background": "light"
     },
     "output_type": "display_data"
    },
    {
     "data": {
      "text/plain": "<Figure size 432x288 with 1 Axes>",
      "image/png": "[encoded data removed]"
     },
     "metadata": {
      "needs_background": "light"
     },
     "output_type": "display_data"
    }
   ],
   "source": [
    "ms = (10,20,50,100,1000)\n",
    "plt.plot(ms,norms,'.')\n",
    "plt.plot(ms,norms,'--')\n",
    "plt.title('normy')\n",
    "plt.grid('on')\n",
    "plt.xscale('log')\n",
    "plt.yscale('log')\n",
    "plt.figure()\n",
    "plt.plot(ms,[wps_tupl.log[k] for k in wps_tupl.log.keys()],'*')\n",
    "plt.plot(ms,[wps_tupl.log[k] for k in wps_tupl.log.keys()],'--')\n",
    "plt.xscale('log')\n",
    "plt.title('wpsółczynniki uwarunkowania dla log')\n",
    "plt.grid('on')\n",
    "plt.figure()\n",
    "plt.plot(ms,[wps_tupl.gra[k] for k in wps_tupl.gra.keys()],'*')\n",
    "plt.plot(ms,[wps_tupl.gra[k] for k in wps_tupl.gra.keys()],'--')\n",
    "plt.xscale('log')\n",
    "plt.title('wpsółczynniki uwarunkowania dla gra')\n",
    "plt.grid('on')\n",
    "plt.figure()\n",
    "plt.plot(ms,[wps_tupl.low[k] for k in wps_tupl.low.keys()],'*')\n",
    "plt.plot(ms,[wps_tupl.low[k] for k in wps_tupl.low.keys()],'--')\n",
    "plt.xscale('log')\n",
    "plt.title('wpsółczynniki uwarunkowania dla low')\n",
    "plt.grid('on')\n",
    "plt.show()\n",
    "\n",
    "\n"
   ],
   "metadata": {
    "collapsed": false,
    "pycharm": {
     "name": "#%%\n"
    }
   }
  },
  {
   "cell_type": "markdown",
   "metadata": {
    "pycharm": {
     "name": "#%% md\n"
    }
   },
   "source": [
    "Materiały uzupełniające:\n",
    "- [Scipy Lecture Notes](http://www.scipy-lectures.org/index.html)\n",
    "- [NumPy for Matlab users](https://docs.scipy.org/doc/numpy/user/numpy-for-matlab-users.html#numpy-for-matlab-users)\n",
    "- [Python Tutorial - W3Schools](https://www.w3schools.com/python/default.asp)\n",
    "- [NumPy](https://www.numpy.org)\n",
    "- [Matplotlib](https://matplotlib.org/)\n",
    "- [Anaconda](https://www.anaconda.com/)\n",
    "- [Learn Python for Data Science](https://www.datacamp.com/learn-python-with-anaconda?utm_source=Anaconda_download&utm_campaign=datacamp_training&utm_medium=banner)\n",
    "- [Learn Python](https://www.learnpython.org/)\n",
    "- [Wujek Google](https://google.pl) i [Ciocia Wikipedia](https://pl.wikipedia.org/wiki/Wikipedia:Strona_g%C5%82%C3%B3wna)"
   ]
  },
  {
   "cell_type": "code",
   "execution_count": 8,
   "metadata": {
    "pycharm": {
     "name": "#%%\n"
    }
   },
   "outputs": [],
   "source": [
    "\n"
   ]
  }
 ],
 "metadata": {
  "kernelspec": {
   "display_name": "Python 3",
   "language": "python",
   "name": "python3"
  },
  "language_info": {
   "codemirror_mode": {
    "name": "ipython",
    "version": 3
   },
   "file_extension": ".py",
   "mimetype": "text/x-python",
   "name": "python",
   "nbconvert_exporter": "python",
   "pygments_lexer": "ipython3",
   "version": "3.7.6-final"
  }
 },
 "nbformat": 4,
 "nbformat_minor": 2
}