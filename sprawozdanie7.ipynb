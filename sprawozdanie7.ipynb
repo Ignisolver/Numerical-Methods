{
 "cells": [
  {
   "cell_type": "markdown",
   "metadata": {},
   "source": [
    "# <center>Rozwiązywanie układów równań</center>"
   ]
  },
  {
   "cell_type": "markdown",
   "metadata": {},
   "source": [
    "Instrukcja:\n",
    "Na zajęciach należy wykonać poniższe zadania, a następnie sporządzić sprawozdanie zawierające odpowiedzi (w postaci kodu) z komentarzami w środowisku Jupyter Notebook i umieścić je na platformie e-learningowej.   "
   ]
  },
  {
   "cell_type": "code",
   "execution_count": 2,
   "metadata": {},
   "outputs": [],
   "source": [
    "import main\n",
    "import scipy as sp\n",
    "import numpy as np\n",
    "import matplotlib\n",
    "import matplotlib.pyplot as plt\n",
    "%load_ext memory_profiler"
   ]
  },
  {
   "cell_type": "markdown",
   "metadata": {},
   "source": [
    "**Cel zajęć:** Celem zajęć jest zapoznanie się z numerycznymi metodami rozwiązywania układów równań liniowych w postaci macierzowej, z rzadkimi macierzami prostokątnymi. Czyli dana jest macierz $\\mathbf{A}$ prostokątna o wymiarach ($m\\times n$) i [rzadka](https://pl.wikipedia.org/wiki/Macierz_rzadka) oraz wektor $\\mathbf{b}$ ($m\\times 1$), należy rozwiązać układ równań postaci:    \n",
    "$\n",
    "\\mathbf{Ax}=\\mathbf{b}\n",
    "$ \n",
    "  \n",
    "gdzie $\\mathbf{A}$ to macierz współczynników z lewej strony równania, wektor $\\mathbf{x}$ jest wektorem zmiennych a wektor $\\mathbf{b}$ wyników prawej strony równania.  \n",
    "\n",
    "Do oceny jakości rozwiązania będziemy wykorzystywać residuum (ang. *residual*)\n",
    "$\n",
    "\\mathbf{r}=\\mathbf{b}-\\mathbf{Ax}\n",
    "$ \n",
    "  "
   ]
  },
  {
   "cell_type": "markdown",
   "metadata": {},
   "source": [
    "***Zadanie 1***   \n",
    "Dane jest $m = 50$ oraz $n = 12$. Zdefiniuję funkcję *spare_matrixAbt*, która zwróci:\n",
    "- wektor $\\mathbf{t}$ typu $m\\times 1$ za pomocą komendy linspace tak aby wartości tego wektora należay do przedzaiłu $[0,1]$,\n",
    "- wektor $\\mathbf{b}$ typu $m \\times 1$, którego wartości dane są funkcją $\\cos(4t)$ oraz\n",
    "- macierz $\\mathbf{A}$ postaci: \n",
    "$$\n",
    "\\left[\\begin{matrix}\n",
    "1 & t_0 & t_{0}^{2} & \\cdots & t_{0}^{n-1} \\\\\n",
    "1 & t_1 & t_{1}^{2} & \\cdots & t_{1}^{n-1} \\\\\n",
    "1 & t_2 & t_{2}^{2} & \\cdots & t_{2}^{n-1} \\\\\n",
    "\\vdots & \\cdots & \\ddots & \\cdots & \\vdots \\\\\n",
    "1 & t_{m-1} & t_{m-1}^{2} & \\cdots & t_{m-1}^{n-1} \n",
    "\\end{matrix}\\right]\n",
    "$$  \n",
    "  \n",
    "**Wskazówka**: Do definicji macierzy $\\mathbf{A}$ należy użyć funkcji [vander](https://docs.scipy.org/doc/numpy-1.13.0/reference/generated/numpy.vander.html) oraz [fliplr](https://docs.scipy.org/doc/numpy-1.15.0/reference/generated/numpy.fliplr.html).  \n",
    " \n",
    "  \n",
    "Rozwiąż układ równań $\\mathbf{Ax}=\\mathbf{b}$ postaci:\n",
    "$$\n",
    "\\left[\\begin{matrix}\n",
    "1 & t_0 & t_{0}^{2} & \\cdots & t_{0}^{n-1} \\\\\n",
    "1 & t_1 & t_{1}^{2} & \\cdots & t_{1}^{n-1} \\\\\n",
    "1 & t_2 & t_{2}^{2} & \\cdots & t_{2}^{n-1} \\\\\n",
    "\\vdots & \\cdots & \\ddots & \\cdots & \\vdots \\\\\n",
    "1 & t_{m-1} & t_{m-1}^{2} & \\cdots & t_{m-1}^{n-1} \n",
    "\\end{matrix}\\right]\n",
    "\\left[\\begin{matrix}\n",
    "x_0\\\\\n",
    "x_1\\\\\n",
    "x_2\\\\\n",
    "\\vdots\\\\\n",
    "x_{n-1}\n",
    "\\end{matrix}\\right] =\n",
    "\\left[\\begin{matrix}\n",
    "b_0\\\\\n",
    "b_1\\\\\n",
    "b_2\\\\\n",
    "\\vdots\\\\\n",
    "b_{m-1}\n",
    "\\end{matrix}\\right]\n",
    "$$ \n",
    "za pomocą następujacych metod:\n",
    "\n",
    "1. Przekształcenia układu równań do postaci: $\\mathbf{A}^{\\mathrm{T}}\\mathbf{Ax}=\\mathbf{A}^{\\mathrm{T}}\\mathbf{b}$ (zdefinuj funkcję *square_from_rectan* która przekształci odpowiednio macierz A i wektor b)  i stosując funkcję solve, z poprzednich zajęć."
   ]
  },
  {
   "cell_type": "code",
   "execution_count": 3,
   "outputs": [
    {
     "name": "stdout",
     "output_type": "stream",
     "text": [
      "The memory_profiler extension is already loaded. To reload it, use:\n",
      "  %reload_ext memory_profiler\n",
      "2 ms ± 0 ns per loop (mean ± std. dev. of 1 run, 1 loop each)\n",
      "peak memory: 92.35 MiB, increment: 0.23 MiB\n",
      "t1 = 0.002000300000000621\n",
      "peak memory: 92.61 MiB, increment: 0.00 MiB\n",
      "128 µs ± 0 ns per loop (mean ± std. dev. of 1 run, 1 loop each)\n",
      "t2 = 0.00012820000000068887\n",
      "peak memory: 92.77 MiB, increment: 0.00 MiB\n",
      "peak memory: 92.77 MiB, increment: 0.00 MiB\n",
      "can not measure time\n",
      "170 µs ± 0 ns per loop (mean ± std. dev. of 1 run, 1 loop each)\n",
      "134 µs ± 0 ns per loop (mean ± std. dev. of 1 run, 1 loop each)\n",
      "peak memory: 93.16 MiB, increment: 0.00 MiB\n",
      "peak memory: 93.16 MiB, increment: 0.00 MiB\n",
      "t4 = 0.00030399999999985994\n"
     ]
    },
    {
     "name": "stderr",
     "output_type": "stream",
     "text": [
      "<ipython-input-3-9d2d402129f8>:13: FutureWarning: `rcond` parameter will change to the default of machine precision times ``max(M, N)`` where M and N are the input matrix dimensions.\n",
      "To use the future default and silence this warning we advise to pass `rcond=None`, to keep using the old, explicitly pass `rcond=-1`.\n",
      "  x2 = np.linalg.lstsq(A,b)\n",
      "<string>:1: FutureWarning: `rcond` parameter will change to the default of machine precision times ``max(M, N)`` where M and N are the input matrix dimensions.\n",
      "To use the future default and silence this warning we advise to pass `rcond=None`, to keep using the old, explicitly pass `rcond=-1`.\n"
     ]
    }
   ],
   "source": [
    "m = 50\n",
    "n = 12\n",
    "%load_ext memory_profiler\n",
    "\n",
    "A,b = main.spare_matrix_Abt(m,n)\n",
    "\n",
    "# zad 1\n",
    "t1 = %timeit -r 1 -n 1 -o np.linalg.solve(*main.square_from_rectan(A,b))\n",
    "x1 = np.linalg.solve(*main.square_from_rectan(A,b))\n",
    "%memit np.linalg.solve(*main.square_from_rectan(A,b))\n",
    "print('t1 =',t1.average)\n",
    "# zad 2\n",
    "x2 = np.linalg.lstsq(A,b)\n",
    "%memit np.linalg.lstsq(A,b)\n",
    "t2 = %timeit -r 1 -n 1 -o np.linalg.lstsq(A,b)\n",
    "print('t2 =',t2.average)\n",
    "# zad 3\n",
    "q,r = np.linalg.qr(A)\n",
    "x3 = sp.linalg.solve_triangular(r,q.transpose() @ b)\n",
    "# t31 = %timeit -r 1 -n 1 -o np.linalg.qr(A)\n",
    "# t32 = %timeit -r 1 -n 1 -o sp.linalg.solve_triangular(r,q.transpose(A) @ b)\n",
    "%memit np.linalg.qr(A)\n",
    "%memit sp.linalg.solve_triangular(r,q.transpose() @ b)\n",
    "# t3 = t31 + t32\n",
    "print('can not measure time')\n",
    "# zad 4\n",
    "u, s, v = sp.linalg.svd(A,full_matrices=False)\n",
    "s = np.diag(s)\n",
    "x4 = v.transpose() @ np.linalg.inv(s) @ u.transpose() @ b\n",
    "t41 = %timeit -r 1 -n 1 -o sp.linalg.svd(A)\n",
    "t42 = %timeit -r 1 -n 1 -o v@np.linalg.inv(s)@u.transpose()@b\n",
    "%memit sp.linalg.svd(A)\n",
    "%memit v @ np.linalg.inv(s) @ u.transpose() @ b\n",
    "t4 = t41.average + t42.average\n",
    "print('t4 =', t4)"
   ],
   "metadata": {
    "collapsed": false,
    "pycharm": {
     "name": "#%%\n"
    }
   }
  },
  {
   "cell_type": "markdown",
   "source": [
    "Zad 6 - najszybciej ( z tych które dało się zmierzyć działa funkcja solve"
   ],
   "metadata": {
    "collapsed": false,
    "pycharm": {
     "name": "#%% md\n"
    }
   }
  },
  {
   "cell_type": "markdown",
   "source": [
    "2. Domyślnej metody Pythona rozwiązywania układów równań z macierzą prostokątną [lstsq](https://docs.scipy.org/doc/numpy-1.13.0/reference/generated/numpy.linalg.lstsq.html#numpy-linalg-lstsq).\n",
    "3. Rozkładu QR rozwiązywania układów równań podanego na wykładzie. Do dokonania rozkładu QR w Pythonie używa się funkcji [qr](https://docs.scipy.org/doc/numpy-1.15.1/reference/generated/numpy.linalg.qr.html), natomiast do rozwiązywania układu równań z macierzą trójkątną służy funkcja [solve_triangular](https://docs.scipy.org/doc/scipy/reference/generated/scipy.linalg.solve_triangular.html)\n",
    "4. Metody rozkładu SVD rozwiązywania układów równań podanego na wykładzie.\n",
    "5. Porównaj czasy wykonania wszystkich metod oraz zużycie pamięci.\n",
    "6. Porównaj jakość otrzymanych wyników"
   ],
   "metadata": {
    "collapsed": false,
    "pycharm": {
     "name": "#%% md\n"
    }
   }
  },
  {
   "cell_type": "markdown",
   "metadata": {},
   "source": [
    "***Zadanie 2***  "
   ]
  },
  {
   "cell_type": "code",
   "execution_count": 4,
   "outputs": [],
   "source": [
    "x1 = np.random.normal(0,1,(100,1))\n",
    "x2 = np.random.normal(0,1,(100,1))\n",
    "epsilon = np.random.normal(0,1,(100,1))\n",
    "y = 2 +x1-0.5*x2+epsilon\n",
    "one_con_1 = np.concatenate((np.ones(100).reshape(100,1),x1),axis=1)\n",
    "one_con_2 = np.concatenate((np.ones(100).reshape(100,1),x2),axis=1)\n",
    "one_con_3 = np.concatenate((np.ones(100).reshape(100,1),x1,x2),axis=1)\n",
    "q0,r0 = np.linalg.qr(one_con_1)\n",
    "q1,r1 = np.linalg.qr(one_con_2)\n",
    "q2,r2 = np.linalg.qr(one_con_3)\n",
    "a1 = np.linalg.inv(r0) @ q0.transpose()\n",
    "a2 = np.linalg.inv(r1) @ q1.transpose()\n",
    "a3 = np.linalg.inv(r2) @ q2.transpose()"
   ],
   "metadata": {
    "collapsed": false,
    "pycharm": {
     "name": "#%%\n"
    }
   }
  },
  {
   "cell_type": "markdown",
   "source": [
    "1. Przy użyciu funkcji [random.normal](https://numpy.org/doc/stable/reference/random/generated/numpy.random.normal.html) wygeneruj dwa wektory $\\mathbf{x}_1$ oraz $\\mathbf{x}_2$ o wymiarze (100,1) o wartości średniej równej 0 oraz odchyleniu standardowemu równego 1.\n",
    "\n",
    "2. Na podstawie uzyskanych wektorów wylicz wartości wektora $y$ danego wzorem:\n",
    "$$\n",
    "    y=2+x1-0.5x2+\\epsilon\n",
    "$$\n",
    "gdzie $\\epsilon$ jest wektorem wartości losowtch o wartości średniej równej 0 oraz odchyleniu standardowemu równego 1.\n",
    "\n",
    "3. Przy pomocy funkcji [concatenate](https://numpy.org/doc/stable/reference/generated/numpy.concatenate.html) połącz wektor samych jedynek o wymiarze (100,1) z:\n",
    "\n",
    "- $x_1$,\n",
    "- $x_2$,\n",
    "- $x_1$ i $x_2$\n",
    "\n",
    "z parametrem *axis = 1*.\n",
    "\n",
    "4. Na podstawie macierzy z punktu 3 oblicz współczynniki [regresji liniowych](https://pl.wikipedia.org/wiki/Regresja_liniowa) z wykorzystaniem rozkładu QR, opisanych zależnościami:\n",
    "\n",
    "    1. $y\\sim a+x_1$\n",
    "    2. $y\\sim a+x_2$\n",
    "    3. $y\\sim a+x_1+x_2$\n",
    "    4. $y\\sim a+x_2+x_2$\n",
    "\n",
    "5. Przedstaw otrzymane wyniki na odpowiednich subplotach."
   ],
   "metadata": {
    "collapsed": false,
    "pycharm": {
     "name": "#%% md\n"
    }
   }
  },
  {
   "cell_type": "code",
   "execution_count": 16,
   "metadata": {},
   "outputs": [
    {
     "data": {
      "text/plain": "<Figure size 432x288 with 2 Axes>",
      "image/png": "[encoded data removed]"
     },
     "metadata": {
      "needs_background": "light"
     },
     "output_type": "display_data"
    }
   ],
   "source": [
    "import scipy as sp\n",
    "from matplotlib import pyplot as plt\n",
    "q1,r1 = np.linalg.qr(one_con_1)\n",
    "wsp1 = sp.linalg.solve_triangular(r1,q1.T@y)\n",
    "\n",
    "q2,r2 = np.linalg.qr(one_con_2)\n",
    "wsp2 = sp.linalg.solve_triangular(r2,q2.T@y)\n",
    "\n",
    "q3,r3 = np.linalg.qr(one_con_3)\n",
    "wsp3 = sp.linalg.solve_triangular(r3,q3.T@y)\n",
    "\n",
    "pred1=[min(x1), max(x1)]\n",
    "pred2=[min(x2), max(x2)]\n",
    "_,axes = plt.subplots(1,2)\n",
    "ax = axes[0]\n",
    "ax.plot(x1,y,'.')\n",
    "ax.plot(pred1, wsp1[0]+wsp1[1]*pred1)\n",
    "ax = axes[1]\n",
    "ax.plot(x2,y,'.')\n",
    "ax.plot(pred2, wsp2[0]+wsp2[1]*pred2)\n",
    "plt.show()"
   ]
  },
  {
   "cell_type": "markdown",
   "metadata": {},
   "source": [
    "Materiały uzupełniające:\n",
    "- [Scipy Lecture Notes](http://www.scipy-lectures.org/index.html)\n",
    "- [NumPy for Matlab users](https://docs.scipy.org/doc/numpy/user/numpy-for-matlab-users.html#numpy-for-matlab-users)\n",
    "- [Python Tutorial - W3Schools](https://www.w3schools.com/python/default.asp)\n",
    "- [NumPy](https://www.numpy.org)\n",
    "- [Matplotlib](https://matplotlib.org/)\n",
    "- [Anaconda](https://www.anaconda.com/)\n",
    "- [Learn Python for Data Science](https://www.datacamp.com/learn-python-with-anaconda?utm_source=Anaconda_download&utm_campaign=datacamp_training&utm_medium=banner)\n",
    "- [Learn Python](https://www.learnpython.org/)\n",
    "- [Wujek Google](https://google.pl) i [Ciocia Wikipedia](https://pl.wikipedia.org/wiki/Wikipedia:Strona_g%C5%82%C3%B3wna)"
   ]
  }
 ],
 "metadata": {
  "kernelspec": {
   "display_name": "Python 3",
   "language": "python",
   "name": "python3"
  },
  "language_info": {
   "codemirror_mode": {
    "name": "ipython",
    "version": 3
   },
   "file_extension": ".py",
   "mimetype": "text/x-python",
   "name": "python",
   "nbconvert_exporter": "python",
   "pygments_lexer": "ipython3",
   "version": "3.7.3"
  }
 },
 "nbformat": 4,
 "nbformat_minor": 2
}