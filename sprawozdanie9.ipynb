{
 "cells": [
  {
   "cell_type": "markdown",
   "metadata": {},
   "source": [
    "# <center>Laboratorium 9<br>Metody Numeryczne</center>"
   ]
  },
  {
   "cell_type": "markdown",
   "metadata": {},
   "source": [
    "Instrukcja:  \n",
    "Na zajęciach należy wykonać poniższe zadania, a następnie sporządzić sprawozdanie zawierające odpowiedzi (w postaci kodu) z komentarzami w środowisku Jupyter Notebook i umieścić je na platformie e-learningowej."
   ]
  },
  {
   "cell_type": "markdown",
   "metadata": {},
   "source": [
    "***Materiały przygotowujące:***\n"
   ]
  },
  {
   "cell_type": "code",
   "execution_count": 1,
   "metadata": {},
   "outputs": [
    {
     "name": "stdout",
     "output_type": "stream",
     "text": [
      "(0.9165625830854545, 8)\n",
      "(-1.4551915228366852e-11, 34)\n"
     ]
    }
   ],
   "source": [
    "import main\n",
    "import numpy as np\n",
    "import scipy.optimize as sopt\n",
    "import matplotlib\n",
    "import matplotlib.pyplot as plt\n",
    "import math\n",
    "import dill\n",
    "\n",
    "expected = dill.load(open('expected','rb'))\n",
    "\n",
    "results_bisection = expected['bisection']\n",
    "f = results_bisection[12][2]\n",
    "a = results_bisection[12][1]"
   ]
  },
  {
   "cell_type": "markdown",
   "metadata": {},
   "source": [
    "***Temat główny:***\n",
    "\n",
    "Znajdź miejsca zerowe funkcji: \n",
    "$$ \n",
    "f(x) = e^{-2x} + x^2 - 1 \n",
    "$$,\n",
    "\n",
    "metodami:\n",
    "* Bisekcji,\n",
    "* Siecznych,\n",
    "* Newtona\n",
    "\n",
    "Funkcja i jej pochodne zostały zaimplementowane w *main.py*"
   ]
  },
  {
   "cell_type": "markdown",
   "metadata": {},
   "source": [
    "***Zadanie 1.***  \n",
    "Wykonaj wykres funckji oraz jej pierwszej i drugiej pochodnej (obliczonej analitycznie) na jednym rysunku w przedziale pozwalającym na zgrubne określenie miejsc zerowych. Wykres powinien być odpowiednio opisany. Określ przedział miejsca zerowego."
   ]
  },
  {
   "cell_type": "code",
   "execution_count": 2,
   "metadata": {},
   "outputs": [
    {
     "name": "stderr",
     "output_type": "stream",
     "text": [
      "<ipython-input-2-8bb3946f80c4>:8: MatplotlibDeprecationWarning: Adding an axes using the same arguments as a previous axes currently reuses the earlier instance.  In a future version, a new instance will always be created and returned.  Meanwhile, this warning can be suppressed, and the future behavior ensured, by passing a unique label to each axes instance.\n",
      "  plt.axes()\n"
     ]
    },
    {
     "data": {
      "text/plain": "<AxesSubplot:>"
     },
     "execution_count": 2,
     "metadata": {},
     "output_type": "execute_result"
    },
    {
     "data": {
      "text/plain": "<Figure size 432x288 with 1 Axes>",
      "image/png": "[encoded data removed]"
     },
     "metadata": {
      "needs_background": "light"
     },
     "output_type": "display_data"
    }
   ],
   "source": [
    "t = np.linspace(-0.5,1.5,500)\n",
    "plt.plot(t, main.fun(t))\n",
    "plt.plot(t, main.dfun(t))\n",
    "plt.plot(t, main.ddfun(t))\n",
    "plt.legend(['fun','dfun','ddfun'])\n",
    "plt.ylim([-1,4])\n",
    "plt.grid()\n",
    "plt.axes()"
   ]
  },
  {
   "cell_type": "markdown",
   "metadata": {},
   "source": [
    "***Zadanie 2.***  \n",
    "Zaimplementuj [metodę bisekcji](https://en.wikipedia.org/wiki/Bisection_method)\n",
    "\n",
    "Gwarancja zbieżności:\n",
    "\n",
    "1) funkcja jest ciągła na danym przedziale [a,b]\n",
    "\n",
    "2) funkcja na końcach przedziału przyjmuje przeciwne znaki"
   ]
  },
  {
   "cell_type": "markdown",
   "metadata": {},
   "source": [
    "***Zadanie 3.***  \n",
    "Zaimplementuj [metodę siecznych](https://en.wikipedia.org/wiki/Secant_method)\n",
    "\n",
    "Gwarancja zbieżności:\n",
    "\n",
    "1) funkcja jest ciągła na danym przedziale [a,b]\n",
    "\n",
    "2) Pierwsza i druga pochodna istnieją i są ciągłe w przedziale domkniętym [a,b]\n",
    "\n",
    "3) funkcja na końcach przedziału przyjmuje przeciwne znaki\n",
    "\n",
    "4) pierwsza i druga pochodna mają stały znak (brak eksremów lokalnych i punktów przegięcia)\n"
   ]
  },
  {
   "cell_type": "markdown",
   "metadata": {},
   "source": [
    "***Zadanie 4.***  \n",
    "Zaimplementuj [metodę Newtona](https://en.wikipedia.org/wiki/Newton%27s_method)\n",
    "\n",
    "Gwarancja zbieżności:\n",
    "\n",
    "1) funkcja jest ciągła na danym przedziale [a,b]\n",
    "\n",
    "2) Pierwsza i druga pochodna istnieją i są ciągłe w przedziale domkniętym [a,b]\n",
    "\n",
    "3) funkcja na końcach przedziału przyjmuje przeciwne znaki\n",
    "\n",
    "4) pierwsza i druga pochodna mają stały znak (brak eksremów lokalnych i punktów przegięcia)\n"
   ]
  },
  {
   "cell_type": "markdown",
   "metadata": {},
   "source": [
    "***Zadania 5.***  \n",
    "Dla głównej funkcji z zadania 1 znajdź miejsca zerowe przy użyciu:\n",
    "\n",
    "* funkcji root dostępnej w pakiecie scipy.optimize\n",
    "* funkcji fsolve dostępnej w pakiecie scipy.optimize"
   ]
  },
  {
   "cell_type": "code",
   "execution_count": 3,
   "outputs": [
    {
     "name": "stdout",
     "output_type": "stream",
     "text": [
      "[-5.24068933e-16  9.16562583e-01]\n",
      "    fjac: array([[ 0.32306576, -0.94637652],\n",
      "       [ 0.94637652,  0.32306576]])\n",
      "     fun: array([ 1.11022302e-15, -1.77169390e-12])\n",
      " message: 'The solution converged.'\n",
      "    nfev: 26\n",
      "     qtf: array([-2.50391401e-09,  8.55139485e-10])\n",
      "       r: array([-6.20117352, -1.43175422,  0.48876002])\n",
      "  status: 1\n",
      " success: True\n",
      "       x: array([-5.24068933e-16,  9.16562583e-01])\n"
     ]
    }
   ],
   "source": [
    "xs1 = sopt.fsolve(main.fun,np.array([-3,3]))\n",
    "xs2 = sopt.root(main.fun,np.array([-3,3]))\n",
    "print(xs1,xs2,sep='\\n')"
   ],
   "metadata": {
    "collapsed": false,
    "pycharm": {
     "name": "#%%\n"
    }
   }
  },
  {
   "cell_type": "markdown",
   "metadata": {},
   "source": [
    "***Zadanie 6.***  \n",
    "Dla głównej funkcji oraz przedziału zdefiniowanego z zadania 1 znajdź miejsca zerowe przy użyciu:\n",
    "\n",
    "* metody bisekcji\n",
    "* metody siecznych\n",
    "* metody Newtona\n",
    "\n",
    "z tolerancją $10^{-10}$\n",
    "\n",
    "Zbadaj dokładność(względem rozwiązania z zadania 5) i czas obliczeń metod w zależności od liczby iteracji. Wyniki przedstaw na wykresach. "
   ]
  },
  {
   "cell_type": "code",
   "execution_count": 4,
   "outputs": [
    {
     "name": "stdout",
     "output_type": "stream",
     "text": [
      "(0.9165625830646604, 30)\n",
      "(0.9165625830854545, 8)\n",
      "(0.9165625831066717, 4)\n"
     ]
    }
   ],
   "source": [
    "a = 0.5\n",
    "b = 1.0\n",
    "epsilon = 1e-10\n",
    "iteration = 100\n",
    "\n",
    "xsb = main.bisection(a,b,main.fun,epsilon,iteration)\n",
    "xss = main.secant(a,b,main.fun,epsilon,iteration)\n",
    "xsn = main.newton(main.fun,main.dfun,main.ddfun,a,b,epsilon,iteration)\n",
    "print(xsb,xss,xsn,sep='\\n')"
   ],
   "metadata": {
    "collapsed": false,
    "pycharm": {
     "name": "#%%\n"
    }
   }
  }
 ],
 "metadata": {
  "kernelspec": {
   "name": "python3",
   "language": "python",
   "display_name": "Python 3"
  },
  "language_info": {
   "codemirror_mode": {
    "name": "ipython",
    "version": 3
   },
   "file_extension": ".py",
   "mimetype": "text/x-python",
   "name": "python",
   "nbconvert_exporter": "python",
   "pygments_lexer": "ipython3",
   "version": "3.8.6-final"
  }
 },
 "nbformat": 4,
 "nbformat_minor": 2
}