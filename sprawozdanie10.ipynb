{
 "cells": [
  {
   "cell_type": "markdown",
   "metadata": {},
   "source": [
    "# <center>Laboratorium 10<br>Metody Numeryczne</center>"
   ]
  },
  {
   "cell_type": "markdown",
   "metadata": {},
   "source": [
    "Instrukcja:  \n",
    "Na zajęciach należy wykonać poniższe zadania, uzupełnić plik main.py, wykonać test na platformie github, a następnie sporządzić sprawozdanie zawierające odpowiedzi z komentarzami."
   ]
  },
  {
   "cell_type": "markdown",
   "metadata": {},
   "source": [
    "***Materiały przygotowujące:***\n"
   ]
  },
  {
   "cell_type": "code",
   "execution_count": 4,
   "metadata": {},
   "outputs": [],
   "source": [
    "import main\n",
    "import numpy as np\n",
    "import scipy\n",
    "import matplotlib\n",
    "import matplotlib.pyplot as plt\n",
    "import scipy.linalg\n",
    "from numpy.polynomial import polynomial as P"
   ]
  },
  {
   "cell_type": "markdown",
   "metadata": {},
   "source": [
    "**Cel zajęć:** Celem zajęć jest zapoznanie się z numerycznymi metodami rozwiązywania równań nieliniowych lub inaczej mówiąc metodami znajdowania miejsc zerowych funkcji.\n",
    "W związku z tym podczas zajęć będziemy rozważać następujący problem:\n",
    "\n",
    "Dana jest funkcja $f(x)$, należy wyznaczyć argumenty funkcji $x$, dla których $f(x) = 0$ (funkcja jest równa zero). \n",
    "\n",
    "Argumenty $x^*$, dla których $f(x)=0$ nazywamy *pierwiastkami*.\n",
    "\n",
    "Funkcja i jej pochodne zostały zaimplementowane w *main.py*"
   ]
  },
  {
   "cell_type": "markdown",
   "metadata": {},
   "source": [
    "***Zadanie 1.***  \n",
    "Dany jest wielomian postaci $W(x)=(x-1)(x-2)\\cdot \\ldots \\cdot (x-20)$.\n",
    "\n",
    "1. Zdefinuj funkcję *polly_A*, która obliczy współczynniki wielomianu $a_i$ w postaci ogólnej wielomianu $w(x)=a_nx^n+\\ldots +a_2x^2+a_1x+1$. Skonstruuj wektor tych współczynników. Użyj funkcji [polyfromroots](https://docs.scipy.org/doc/numpy-1.13.0/reference/generated/numpy.polynomial.polynomial.polyfromroots.html#numpy.polynomial.polynomial.polyfromroots) oraz *linspace*.\n",
    "2. Zdefinuj funkcję *roots_20*, która w pętli 20 iteracji będzie:  \n",
    "\n",
    "   i. konstruować wektor współczynników nowego wielomianu w następujący sposób: do każdego wygenerowanego wektora współczynników dodać losową wartość w postaci $(10^{-10})N(0,1)$. Użyj funkcji [random_sample](https://docs.scipy.org/doc/numpy-1.15.1/reference/generated/numpy.random.random_sample.html#numpy.random.random_sample).  \n",
    "  ii. wyliczyać pierwiaski tego wielomianu za pomocą metody [polyroots](https://docs.scipy.org/doc/numpy/reference/generated/numpy.polynomial.polynomial.polyroots.html#numpy.polynomial.polynomial.polyroots).\n",
    "\n",
    "3. Narysuj na wykresie te pierwiastki (w każdej iteracji dorysowywać pierwiastki na tym samym rysunku)."
   ]
  },
  {
   "cell_type": "code",
   "execution_count": 25,
   "outputs": [
    {
     "data": {
      "text/plain": "<Figure size 432x288 with 1 Axes>",
      "image/png": "[encoded data removed]"
     },
     "metadata": {
      "needs_background": "light"
     },
     "output_type": "display_data"
    }
   ],
   "source": [
    "init_poly_roots = np.linspace(1,20,20)\n",
    "coeff = P.polyfromroots(init_poly_roots)\n",
    "zeros = init_poly_roots\n",
    "for i in range(200):\n",
    "    plt.plot(np.real(zeros),np.imag(zeros),'.')\n",
    "    coeff, zeros = main.roots_20(coeff)\n",
    "plt.xticks(init_poly_roots)\n",
    "plt.grid()\n",
    "plt.show()"
   ],
   "metadata": {
    "collapsed": false,
    "pycharm": {
     "name": "#%%\n"
    }
   }
  },
  {
   "cell_type": "markdown",
   "source": [
    "4. Określić, który pierwiastek jest najbardziej wrażliwy na zaburzenia.\n",
    "    - Najbardziej wrażliwy na zakłócenia (przyjmując za kryterium odległość tego pierwiastka na płaszczyźnie zespolonej od pierwotnej wartości) jest największy pierwiastek 16\n",
    "5. Zaproponować sposób oszacowania uwarunkowania każdego z pierwiastków.\n",
    "    - Można badać wpływ małych zakłóceń na odległość na płaszczyźnie zespolonej wyznaczonego pierwiastka od pierwotnego pierwiastka"
   ],
   "metadata": {
    "collapsed": false
   }
  },
  {
   "cell_type": "markdown",
   "metadata": {},
   "source": [
    "***Zadanie 2.***  \n",
    "Dany jest wielomian $w_1(x)=(x-1)^8$. Wyznacz numerycznie miejsca zerowego tego wielomianu poprzez wyznaczenie wartości własnych macierzy Frobeniusa. W związku z tym wykonaj następujące czynności:  \n",
    "\n",
    "1. Zaiplementuj funkcję tworzącą [macierz Frobenusa](https://github.com/KAIR-ISZ/public_lectures/blob/master/Metody%20Numeryczne%202019/Lecture%204%20(nonlinear%20equations)/Metody%20numeryczne%202019%20-%20R%C3%B3wnania%20nieliniowe.pdf) *frob_a*, dla zadanego wektora współczynników wielomianu $w(x)$.  \n",
    "2. Wyznacz wartości własne przekształconej macierzy za pomocą funkcji [eigvals](https://docs.scipy.org/doc/numpy/reference/generated/numpy.linalg.eigvals.html#numpy.linalg.eigvals).  \n",
    "3. Dokonaj rozkładu Schura macierzy zdefiniowanej w punkcie 1. użyj funkcji [schure](https://docs.scipy.org/doc/scipy-0.14.0/reference/generated/scipy.linalg.schur.html#scipy.linalg.schur).  \n",
    "4. Porównaj wyniki z funkcją polyroots."
   ]
  },
  {
   "cell_type": "code",
   "execution_count": 12,
   "outputs": [
    {
     "name": "stdout",
     "output_type": "stream",
     "text": [
      "[-4.69153788+0.j          0.2884918 +1.6889081j   0.2884918 -1.6889081j\n",
      "  0.51507253+0.66306355j  0.51507253-0.66306355j  0.52161447+0.30995694j\n",
      "  0.52161447-0.30995694j  0.52059013+0.09353964j  0.52059013-0.09353964j]\n",
      "(array([[-4.69153788e+00, -9.29392730e-01, -1.26194300e+01,\n",
      "        -3.62081520e+00, -1.39810433e+00, -8.96404714e+00,\n",
      "         5.75835831e+00,  3.14357808e+01, -1.04825206e+02],\n",
      "       [ 0.00000000e+00,  2.88491804e-01,  2.91474068e+00,\n",
      "         7.35782993e-01,  2.84317230e-01,  1.83583546e+00,\n",
      "        -1.18162698e+00, -6.42990334e+00,  2.14441842e+01],\n",
      "       [ 0.00000000e+00, -9.78615557e-01,  2.88491804e-01,\n",
      "         4.28143175e-02,  1.70373135e-02,  1.40385974e-01,\n",
      "        -9.57679193e-02, -4.72683481e-01,  1.58377721e+00],\n",
      "       [ 0.00000000e+00,  0.00000000e+00,  0.00000000e+00,\n",
      "         5.15072531e-01, -8.26871955e-01,  1.88374704e-01,\n",
      "        -2.38299218e-01, -2.48399315e-01,  9.87357290e-01],\n",
      "       [ 0.00000000e+00,  0.00000000e+00,  0.00000000e+00,\n",
      "         5.31706594e-01,  5.15072531e-01,  5.91602475e-01,\n",
      "        -7.34001420e-01, -8.30693287e-01,  3.25000335e+00],\n",
      "       [ 0.00000000e+00,  0.00000000e+00,  0.00000000e+00,\n",
      "         0.00000000e+00,  0.00000000e+00,  5.21614471e-01,\n",
      "        -1.16241948e-01, -2.32073648e+00,  5.63189585e+00],\n",
      "       [ 0.00000000e+00,  0.00000000e+00,  0.00000000e+00,\n",
      "         0.00000000e+00,  0.00000000e+00,  8.26494289e-01,\n",
      "         5.21614471e-01,  2.01952440e-01,  9.56053713e-02],\n",
      "       [ 0.00000000e+00,  0.00000000e+00,  0.00000000e+00,\n",
      "         0.00000000e+00,  0.00000000e+00,  0.00000000e+00,\n",
      "         0.00000000e+00,  5.20590135e-01, -4.25365151e+00],\n",
      "       [ 0.00000000e+00,  0.00000000e+00,  0.00000000e+00,\n",
      "         0.00000000e+00,  0.00000000e+00,  0.00000000e+00,\n",
      "         0.00000000e+00,  2.05697734e-03,  5.20590135e-01]]), array([[-4.16276059e-06, -1.39796315e-02,  2.43485743e-02,\n",
      "         7.29904861e-01,  2.50778703e-01, -3.06304503e-01,\n",
      "         5.40044082e-01, -1.32253677e-01, -2.44859068e-02],\n",
      "       [ 1.95297490e-05, -2.78570339e-02, -3.36701050e-02,\n",
      "         5.00066199e-01, -4.77922634e-01,  5.50218612e-01,\n",
      "        -2.65445143e-02,  4.39634527e-01,  1.51295779e-01],\n",
      "       [-9.16245572e-05,  2.48954118e-02, -9.11560336e-02,\n",
      "        -1.85532609e-02, -6.68176723e-01,  2.04799036e-02,\n",
      "         1.90079619e-01, -5.84654233e-01, -4.07303536e-01],\n",
      "       [ 4.29860081e-04,  9.64739901e-02,  4.74221509e-02,\n",
      "        -3.50083652e-01, -3.23165064e-01, -1.97279456e-01,\n",
      "         5.70416674e-01,  1.25446650e-01,  6.17590702e-01],\n",
      "       [-2.01670485e-03, -1.89756081e-02,  2.89452977e-01,\n",
      "        -2.80689644e-01,  1.50657081e-01,  2.91324639e-01,\n",
      "         5.25035515e-01,  3.65797806e-01, -5.65710376e-01],\n",
      "       [ 9.46144722e-03, -2.86863182e-01,  5.36455001e-02,\n",
      "        -5.87372445e-02,  3.12049691e-01,  6.46029156e-01,\n",
      "         1.79396462e-01, -5.14420156e-01,  3.15835755e-01],\n",
      "       [-4.43887380e-02, -1.44049398e-01, -9.40053573e-01,\n",
      "        -1.07365470e-01,  1.15422144e-01,  5.48776805e-02,\n",
      "         1.91742386e-01,  1.41759613e-01, -9.41094346e-02],\n",
      "       [ 2.08251446e-01,  9.19648550e-01, -1.30903820e-01,\n",
      "         2.05562782e-02,  1.53316645e-01,  2.36639477e-01,\n",
      "         3.91349760e-02, -1.09062747e-01,  1.97241922e-02],\n",
      "       [-9.77019547e-01,  1.99868204e-01,  1.47578244e-02,\n",
      "         9.12465052e-03,  3.00562140e-02,  5.35247826e-02,\n",
      "         5.14051317e-04, -3.53045554e-02,  1.30191644e-02]]))\n",
      "[0.98453434+0.j         0.98909686-0.01095323j 0.98909686+0.01095323j\n",
      " 1.00005964-0.01541976j 1.00005964+0.01541976j 1.01090371-0.01083339j\n",
      " 1.01090371+0.01083339j 1.01534524+0.j        ]\n"
     ]
    }
   ],
   "source": [
    "wsp = P.polyfromroots([1] * 8)\n",
    "results = main.frob_a(wsp)\n",
    "print(results[1])\n",
    "print(results[2])\n",
    "print(results[3])\n"
   ],
   "metadata": {
    "collapsed": false,
    "pycharm": {
     "name": "#%%\n"
    }
   }
  },
  {
   "cell_type": "markdown",
   "metadata": {},
   "source": [
    "***Zadanie 3.***  \n",
    "Dla danego wielomianu $w_2(x) = 243x^7-486x^6+783x^5-990x^4+558x^3-28x^2-72x+16$ wyznacz miejsca zerowe numerycznie, w taki sam sposób jak w zadaniu 2."
   ]
  },
  {
   "cell_type": "code",
   "execution_count": 15,
   "outputs": [
    {
     "name": "stdout",
     "output_type": "stream",
     "text": [
      "[ 1.         -1.61111111  2.03703704 -1.14814815  0.05761317  0.14814815\n",
      " -0.03292181]\n"
     ]
    }
   ],
   "source": [
    "wsp2 = np.array([243,-486,783,-990,558,-28,-72,16])\n",
    "wsp2 = wsp2[1:]/wsp2[1]\n",
    "results = main.frob_a(wsp)"
   ],
   "metadata": {
    "collapsed": false,
    "pycharm": {
     "name": "#%%\n"
    }
   }
  },
  {
   "cell_type": "markdown",
   "metadata": {},
   "source": [
    "***Zadanie 4.***\n",
    "\n",
    "Dany jest wielomian: \n",
    "$$\n",
    "w_3(x)= x^5 - 156x^4 - 5x^3 + 780x^2 + 4x - 624\n",
    "$$.\n",
    " Wiedząc, że wielomian ten w postaci szeregu Czebyszewa jest następujący \n",
    " $$w_3(x)= (a_0+\\frac{a_2}{2}+ \\frac{3a_4}{4})T_0(x)+(a_1+\\frac{3a_3}{4}+ \\frac{5a_5}{8})T_1(x)+(\\frac{a_2}{2}+ \\frac{a_4}{4})T_2(x)+(\\frac{a_3}{4}+ \\frac{5a_5}{16})T_3(x)+ (\\frac{a_4}{8})T_4 + (\\frac{a_5}{16})T_5(x)$$ \n",
    " znajdź pierwiastki wykorzystując funkcję [chebroots](https://numpy.org/doc/stable/reference/generated/numpy.polynomial.chebyshev.chebroots.html)."
   ]
  },
  {
   "cell_type": "code",
   "execution_count": 22,
   "metadata": {
    "pycharm": {
     "name": "#%%\n"
    }
   },
   "outputs": [
    {
     "name": "stdout",
     "output_type": "stream",
     "text": [
      "[ -2.1113158   -1.01778383   1.01798385   2.11432153 155.99679425]\n",
      "[ -2.  -1.   1.   2. 156.]\n",
      "[-721.5    4.   858.    -5.  -156.     1. ]\n"
     ]
    }
   ],
   "source": [
    "a0 = -624\n",
    "a1 = 4\n",
    "a2 = 780\n",
    "a3 = -5\n",
    "a4 = -156\n",
    "a5 = 1\n",
    "t0 = a0+a2/2+3*a4/4\n",
    "t1 = a1 +3*a3/4+5*a5/8\n",
    "t2 = a2/2+a4/4\n",
    "t3 = a3/4+5*a5/16\n",
    "t4 = a4/8\n",
    "t5 = a5/16\n",
    "roots = np.polynomial.chebyshev.chebroots((t0,t1,t2,t3,t4,t5))\n",
    "print(roots)\n",
    "roots2 = P.polyroots((a0,a1,a2,a3,a4,a5))\n",
    "print(roots2)\n",
    "print(P.polyfromroots(roots))"
   ]
  }
 ],
 "metadata": {
  "kernelspec": {
   "display_name": "Python 3",
   "language": "python",
   "name": "python3"
  },
  "language_info": {
   "codemirror_mode": {
    "name": "ipython",
    "version": 3
   },
   "file_extension": ".py",
   "mimetype": "text/x-python",
   "name": "python",
   "nbconvert_exporter": "python",
   "pygments_lexer": "ipython3",
   "version": "3.7.7"
  }
 },
 "nbformat": 4,
 "nbformat_minor": 2
}